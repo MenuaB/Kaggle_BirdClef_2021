{
 "cells": [
  {
   "cell_type": "markdown",
   "id": "super-cooling",
   "metadata": {
    "papermill": {
     "duration": 0.020945,
     "end_time": "2021-05-22T13:41:58.147264",
     "exception": false,
     "start_time": "2021-05-22T13:41:58.126319",
     "status": "completed"
    },
    "tags": []
   },
   "source": [
    "# Notes"
   ]
  },
  {
   "cell_type": "markdown",
   "id": "civic-server",
   "metadata": {
    "papermill": {
     "duration": 0.019679,
     "end_time": "2021-05-22T13:41:58.187328",
     "exception": false,
     "start_time": "2021-05-22T13:41:58.167649",
     "status": "completed"
    },
    "tags": []
   },
   "source": [
    "I've released a [training kernel](https://www.kaggle.com/kneroma/clean-fast-simple-bird-identifier-training-colab) and an [inference kernel](https://www.kaggle.com/kneroma/clean-fast-simple-bird-identifier-inference). Both of these kernels use a set of pre-computed mels. Which can be found at:\n",
    "\n",
    "* https://www.kaggle.com/kneroma/kkiller-birdclef-mels-computer-d7-part1\n",
    "* https://www.kaggle.com/kneroma/kkiller-birdclef-mels-computer-d7-part2\n",
    "* https://www.kaggle.com/kneroma/kkiller-birdclef-mels-computer-d7-part3\n",
    "* https://www.kaggle.com/kneroma/kkiller-birdclef-mels-computer-d7-part4\n",
    "\n",
    "Unfortunately, these mels are static (7s audio extracts) and you can't get any customization from them. Here, I'm releasing the base kernel that generate them in order to allow everyone to be able to play with the params."
   ]
  },
  {
   "cell_type": "code",
   "execution_count": null,
   "id": "enormous-daisy",
   "metadata": {
    "papermill": {
     "duration": 0.019727,
     "end_time": "2021-05-22T13:41:58.228399",
     "exception": false,
     "start_time": "2021-05-22T13:41:58.208672",
     "status": "completed"
    },
    "tags": []
   },
   "outputs": [],
   "source": []
  },
  {
   "cell_type": "code",
   "execution_count": 1,
   "id": "treated-briefing",
   "metadata": {
    "execution": {
     "iopub.execute_input": "2021-05-22T13:41:58.274554Z",
     "iopub.status.busy": "2021-05-22T13:41:58.274023Z",
     "iopub.status.idle": "2021-05-22T13:42:00.676539Z",
     "shell.execute_reply": "2021-05-22T13:42:00.675792Z",
     "shell.execute_reply.started": "2021-05-22T11:18:12.055047Z"
    },
    "id": "2dt7oG43VAqc",
    "papermill": {
     "duration": 2.428578,
     "end_time": "2021-05-22T13:42:00.676692",
     "exception": false,
     "start_time": "2021-05-22T13:41:58.248114",
     "status": "completed"
    },
    "tags": []
   },
   "outputs": [],
   "source": [
    "import numpy as np\n",
    "import librosa as lb\n",
    "import librosa.display as lbd\n",
    "import soundfile as sf\n",
    "from  soundfile import SoundFile\n",
    "import pandas as pd\n",
    "from  IPython.display import Audio\n",
    "from pathlib import Path\n",
    "\n",
    "from matplotlib import pyplot as plt\n",
    "\n",
    "from tqdm.notebook import tqdm\n",
    "import joblib, json\n",
    "\n",
    "from  sklearn.model_selection  import StratifiedKFold"
   ]
  },
  {
   "cell_type": "code",
   "execution_count": 2,
   "id": "immediate-trunk",
   "metadata": {
    "execution": {
     "iopub.execute_input": "2021-05-22T13:42:00.721238Z",
     "iopub.status.busy": "2021-05-22T13:42:00.720362Z",
     "iopub.status.idle": "2021-05-22T13:42:00.722973Z",
     "shell.execute_reply": "2021-05-22T13:42:00.722563Z",
     "shell.execute_reply.started": "2021-05-22T11:18:14.772083Z"
    },
    "id": "fJB9IS2RVAqe",
    "papermill": {
     "duration": 0.026424,
     "end_time": "2021-05-22T13:42:00.723091",
     "exception": false,
     "start_time": "2021-05-22T13:42:00.696667",
     "status": "completed"
    },
    "tags": []
   },
   "outputs": [],
   "source": [
    "PART_ID = 0 # The start index in the below list, by changing it you will compute mels on another subset\n",
    "# PART_INDEXES = [0,15718, 31436, 47154, 62874] # The train_set is splitted into 4 subsets\n",
    "PART_INDEXES = [0,int(48886/2),48886]"
   ]
  },
  {
   "cell_type": "code",
   "execution_count": 3,
   "id": "hundred-retreat",
   "metadata": {
    "execution": {
     "iopub.execute_input": "2021-05-22T13:42:00.768178Z",
     "iopub.status.busy": "2021-05-22T13:42:00.767300Z",
     "iopub.status.idle": "2021-05-22T13:42:00.770074Z",
     "shell.execute_reply": "2021-05-22T13:42:00.769617Z",
     "shell.execute_reply.started": "2021-05-22T11:18:14.777864Z"
    },
    "papermill": {
     "duration": 0.027155,
     "end_time": "2021-05-22T13:42:00.770194",
     "exception": false,
     "start_time": "2021-05-22T13:42:00.743039",
     "status": "completed"
    },
    "tags": []
   },
   "outputs": [],
   "source": [
    "SR = 32_000\n",
    "DURATION = 5 \n",
    "SEED = 666\n",
    "\n",
    "DATA_ROOT = Path(\"../input/birdclef-2021\")\n",
    "TRAIN_AUDIO_ROOT = Path(\"../input/birdclef-2021/train_short_audio\")\n",
    "TRAIN_AUDIO_IMAGES_SAVE_ROOT = Path(\"audio_images\") # Where to save the mels images\n",
    "TRAIN_AUDIO_IMAGES_SAVE_ROOT.mkdir(exist_ok=True, parents=True)"
   ]
  },
  {
   "cell_type": "code",
   "execution_count": null,
   "id": "played-liechtenstein",
   "metadata": {
    "papermill": {
     "duration": 0.024061,
     "end_time": "2021-05-22T13:42:00.815706",
     "exception": false,
     "start_time": "2021-05-22T13:42:00.791645",
     "status": "completed"
    },
    "tags": []
   },
   "outputs": [],
   "source": []
  },
  {
   "cell_type": "code",
   "execution_count": 4,
   "id": "restricted-psychiatry",
   "metadata": {
    "execution": {
     "iopub.execute_input": "2021-05-22T13:42:00.861157Z",
     "iopub.status.busy": "2021-05-22T13:42:00.860438Z",
     "iopub.status.idle": "2021-05-22T13:42:00.863363Z",
     "shell.execute_reply": "2021-05-22T13:42:00.862907Z",
     "shell.execute_reply.started": "2021-05-22T11:18:14.792121Z"
    },
    "papermill": {
     "duration": 0.027855,
     "end_time": "2021-05-22T13:42:00.863491",
     "exception": false,
     "start_time": "2021-05-22T13:42:00.835636",
     "status": "completed"
    },
    "tags": []
   },
   "outputs": [],
   "source": [
    "def get_audio_info(filepath):\n",
    "    \"\"\"Get some properties from  an audio file\"\"\"\n",
    "    with SoundFile(filepath) as f:\n",
    "        sr = f.samplerate\n",
    "        frames = f.frames\n",
    "        duration = float(frames)/sr\n",
    "    return {\"frames\": frames, \"sr\": sr, \"duration\": duration}"
   ]
  },
  {
   "cell_type": "code",
   "execution_count": 5,
   "id": "figured-smart",
   "metadata": {
    "execution": {
     "iopub.execute_input": "2021-05-22T13:42:00.905583Z",
     "iopub.status.busy": "2021-05-22T13:42:00.905040Z",
     "iopub.status.idle": "2021-05-22T13:42:00.912513Z",
     "shell.execute_reply": "2021-05-22T13:42:00.912932Z",
     "shell.execute_reply.started": "2021-05-22T11:18:14.806702Z"
    },
    "id": "Kmh6xx5_NCjJ",
    "outputId": "ad61f09f-6f0e-4204-c658-21112e051785",
    "papermill": {
     "duration": 0.029877,
     "end_time": "2021-05-22T13:42:00.913095",
     "exception": false,
     "start_time": "2021-05-22T13:42:00.883218",
     "status": "completed"
    },
    "tags": []
   },
   "outputs": [],
   "source": [
    "def make_df(n_splits=5, seed=SEED, nrows=None):\n",
    "    \n",
    "    df = pd.read_csv(DATA_ROOT/\"train_metadata.csv\", nrows=nrows)\n",
    "    \n",
    "    df = df[df.rating > 3].reset_index(drop=False)\n",
    "\n",
    "    LABEL_IDS = {label: label_id for label_id,label in enumerate(sorted(df[\"primary_label\"].unique()))}\n",
    "    \n",
    "    df = df.iloc[PART_INDEXES[PART_ID]: PART_INDEXES[PART_ID+1]]\n",
    "\n",
    "    df[\"label_id\"] = df[\"primary_label\"].map(LABEL_IDS)\n",
    "\n",
    "    df[\"filepath\"] = [str(TRAIN_AUDIO_ROOT/primary_label/filename) for primary_label,filename in zip(df.primary_label, df.filename) ]\n",
    "\n",
    "    pool = joblib.Parallel(4)\n",
    "    mapper = joblib.delayed(get_audio_info)\n",
    "    tasks = [mapper(filepath) for filepath in df.filepath]\n",
    "\n",
    "    df = pd.concat([df, pd.DataFrame(pool(tqdm(tasks)))], axis=1, sort=False)\n",
    "    \n",
    "    skf = StratifiedKFold(n_splits=n_splits, random_state=seed, shuffle=True)\n",
    "    splits = skf.split(np.arange(len(df)), y=df.label_id.values)\n",
    "    df[\"fold\"] = -1\n",
    "\n",
    "    for fold, (train_set, val_set) in enumerate(splits):\n",
    "        \n",
    "        df.loc[df.index[val_set], \"fold\"] = fold\n",
    "\n",
    "    return LABEL_IDS, df"
   ]
  },
  {
   "cell_type": "code",
   "execution_count": null,
   "id": "increased-tradition",
   "metadata": {
    "papermill": {
     "duration": 0.019613,
     "end_time": "2021-05-22T13:42:00.952320",
     "exception": false,
     "start_time": "2021-05-22T13:42:00.932707",
     "status": "completed"
    },
    "tags": []
   },
   "outputs": [],
   "source": []
  },
  {
   "cell_type": "code",
   "execution_count": 6,
   "id": "characteristic-medline",
   "metadata": {
    "execution": {
     "iopub.execute_input": "2021-05-22T13:42:00.994719Z",
     "iopub.status.busy": "2021-05-22T13:42:00.994188Z",
     "iopub.status.idle": "2021-05-22T13:44:19.018847Z",
     "shell.execute_reply": "2021-05-22T13:44:19.018323Z",
     "shell.execute_reply.started": "2021-05-22T11:18:14.822559Z"
    },
    "id": "SRRhx1EAN75G",
    "outputId": "f1688387-b564-4f8d-8895-4490c90d4150",
    "papermill": {
     "duration": 138.046868,
     "end_time": "2021-05-22T13:44:19.019033",
     "exception": false,
     "start_time": "2021-05-22T13:42:00.972165",
     "status": "completed"
    },
    "tags": []
   },
   "outputs": [
    {
     "data": {
      "application/vnd.jupyter.widget-view+json": {
       "model_id": "857e1dc2974848018decbca492bb13d1",
       "version_major": 2,
       "version_minor": 0
      },
      "text/plain": [
       "  0%|          | 0/24443 [00:00<?, ?it/s]"
      ]
     },
     "metadata": {},
     "output_type": "display_data"
    },
    {
     "name": "stdout",
     "output_type": "stream",
     "text": [
      "(24443, 21)\n"
     ]
    },
    {
     "data": {
      "text/html": [
       "<div>\n",
       "<style scoped>\n",
       "    .dataframe tbody tr th:only-of-type {\n",
       "        vertical-align: middle;\n",
       "    }\n",
       "\n",
       "    .dataframe tbody tr th {\n",
       "        vertical-align: top;\n",
       "    }\n",
       "\n",
       "    .dataframe thead th {\n",
       "        text-align: right;\n",
       "    }\n",
       "</style>\n",
       "<table border=\"1\" class=\"dataframe\">\n",
       "  <thead>\n",
       "    <tr style=\"text-align: right;\">\n",
       "      <th></th>\n",
       "      <th>index</th>\n",
       "      <th>primary_label</th>\n",
       "      <th>secondary_labels</th>\n",
       "      <th>type</th>\n",
       "      <th>latitude</th>\n",
       "      <th>longitude</th>\n",
       "      <th>scientific_name</th>\n",
       "      <th>common_name</th>\n",
       "      <th>author</th>\n",
       "      <th>date</th>\n",
       "      <th>...</th>\n",
       "      <th>license</th>\n",
       "      <th>rating</th>\n",
       "      <th>time</th>\n",
       "      <th>url</th>\n",
       "      <th>label_id</th>\n",
       "      <th>filepath</th>\n",
       "      <th>frames</th>\n",
       "      <th>sr</th>\n",
       "      <th>duration</th>\n",
       "      <th>fold</th>\n",
       "    </tr>\n",
       "  </thead>\n",
       "  <tbody>\n",
       "    <tr>\n",
       "      <th>0</th>\n",
       "      <td>3</td>\n",
       "      <td>acafly</td>\n",
       "      <td>['whwbec1']</td>\n",
       "      <td>['call']</td>\n",
       "      <td>4.6717</td>\n",
       "      <td>-75.6283</td>\n",
       "      <td>Empidonax virescens</td>\n",
       "      <td>Acadian Flycatcher</td>\n",
       "      <td>Oscar Humberto Marin-Gomez</td>\n",
       "      <td>2009-06-19</td>\n",
       "      <td>...</td>\n",
       "      <td>Creative Commons Attribution-NonCommercial-Sha...</td>\n",
       "      <td>3.5</td>\n",
       "      <td>07:50</td>\n",
       "      <td>https://www.xeno-canto.org/129974</td>\n",
       "      <td>0</td>\n",
       "      <td>../input/birdclef-2021/train_short_audio/acafl...</td>\n",
       "      <td>450177</td>\n",
       "      <td>32000</td>\n",
       "      <td>14.068031</td>\n",
       "      <td>0</td>\n",
       "    </tr>\n",
       "    <tr>\n",
       "      <th>1</th>\n",
       "      <td>4</td>\n",
       "      <td>acafly</td>\n",
       "      <td>['whwbec1']</td>\n",
       "      <td>['call']</td>\n",
       "      <td>4.6717</td>\n",
       "      <td>-75.6283</td>\n",
       "      <td>Empidonax virescens</td>\n",
       "      <td>Acadian Flycatcher</td>\n",
       "      <td>Oscar Humberto Marin-Gomez</td>\n",
       "      <td>2009-06-19</td>\n",
       "      <td>...</td>\n",
       "      <td>Creative Commons Attribution-NonCommercial-Sha...</td>\n",
       "      <td>3.5</td>\n",
       "      <td>07:50</td>\n",
       "      <td>https://www.xeno-canto.org/129981</td>\n",
       "      <td>0</td>\n",
       "      <td>../input/birdclef-2021/train_short_audio/acafl...</td>\n",
       "      <td>1301142</td>\n",
       "      <td>32000</td>\n",
       "      <td>40.660688</td>\n",
       "      <td>2</td>\n",
       "    </tr>\n",
       "    <tr>\n",
       "      <th>2</th>\n",
       "      <td>5</td>\n",
       "      <td>acafly</td>\n",
       "      <td>[]</td>\n",
       "      <td>['call']</td>\n",
       "      <td>4.6717</td>\n",
       "      <td>-75.6283</td>\n",
       "      <td>Empidonax virescens</td>\n",
       "      <td>Acadian Flycatcher</td>\n",
       "      <td>Oscar Humberto Marin-Gomez</td>\n",
       "      <td>2007-11-05</td>\n",
       "      <td>...</td>\n",
       "      <td>Creative Commons Attribution-NonCommercial-Sha...</td>\n",
       "      <td>4.0</td>\n",
       "      <td>07:45</td>\n",
       "      <td>https://www.xeno-canto.org/130056</td>\n",
       "      <td>0</td>\n",
       "      <td>../input/birdclef-2021/train_short_audio/acafl...</td>\n",
       "      <td>1347954</td>\n",
       "      <td>32000</td>\n",
       "      <td>42.123562</td>\n",
       "      <td>4</td>\n",
       "    </tr>\n",
       "    <tr>\n",
       "      <th>3</th>\n",
       "      <td>6</td>\n",
       "      <td>acafly</td>\n",
       "      <td>[]</td>\n",
       "      <td>['call']</td>\n",
       "      <td>4.6717</td>\n",
       "      <td>-75.6283</td>\n",
       "      <td>Empidonax virescens</td>\n",
       "      <td>Acadian Flycatcher</td>\n",
       "      <td>Oscar Humberto Marin-Gomez</td>\n",
       "      <td>2007-11-12</td>\n",
       "      <td>...</td>\n",
       "      <td>Creative Commons Attribution-NonCommercial-Sha...</td>\n",
       "      <td>4.0</td>\n",
       "      <td>07:50</td>\n",
       "      <td>https://www.xeno-canto.org/130133</td>\n",
       "      <td>0</td>\n",
       "      <td>../input/birdclef-2021/train_short_audio/acafl...</td>\n",
       "      <td>2081890</td>\n",
       "      <td>32000</td>\n",
       "      <td>65.059062</td>\n",
       "      <td>1</td>\n",
       "    </tr>\n",
       "    <tr>\n",
       "      <th>4</th>\n",
       "      <td>7</td>\n",
       "      <td>acafly</td>\n",
       "      <td>[]</td>\n",
       "      <td>['call']</td>\n",
       "      <td>4.6717</td>\n",
       "      <td>-75.6283</td>\n",
       "      <td>Empidonax virescens</td>\n",
       "      <td>Acadian Flycatcher</td>\n",
       "      <td>Oscar Humberto Marin-Gomez</td>\n",
       "      <td>2007-11-12</td>\n",
       "      <td>...</td>\n",
       "      <td>Creative Commons Attribution-NonCommercial-Sha...</td>\n",
       "      <td>4.0</td>\n",
       "      <td>14:00</td>\n",
       "      <td>https://www.xeno-canto.org/130140</td>\n",
       "      <td>0</td>\n",
       "      <td>../input/birdclef-2021/train_short_audio/acafl...</td>\n",
       "      <td>1008571</td>\n",
       "      <td>32000</td>\n",
       "      <td>31.517844</td>\n",
       "      <td>3</td>\n",
       "    </tr>\n",
       "  </tbody>\n",
       "</table>\n",
       "<p>5 rows × 21 columns</p>\n",
       "</div>"
      ],
      "text/plain": [
       "   index primary_label secondary_labels      type  latitude  longitude  \\\n",
       "0      3        acafly      ['whwbec1']  ['call']    4.6717   -75.6283   \n",
       "1      4        acafly      ['whwbec1']  ['call']    4.6717   -75.6283   \n",
       "2      5        acafly               []  ['call']    4.6717   -75.6283   \n",
       "3      6        acafly               []  ['call']    4.6717   -75.6283   \n",
       "4      7        acafly               []  ['call']    4.6717   -75.6283   \n",
       "\n",
       "       scientific_name         common_name                      author  \\\n",
       "0  Empidonax virescens  Acadian Flycatcher  Oscar Humberto Marin-Gomez   \n",
       "1  Empidonax virescens  Acadian Flycatcher  Oscar Humberto Marin-Gomez   \n",
       "2  Empidonax virescens  Acadian Flycatcher  Oscar Humberto Marin-Gomez   \n",
       "3  Empidonax virescens  Acadian Flycatcher  Oscar Humberto Marin-Gomez   \n",
       "4  Empidonax virescens  Acadian Flycatcher  Oscar Humberto Marin-Gomez   \n",
       "\n",
       "         date  ...                                            license rating  \\\n",
       "0  2009-06-19  ...  Creative Commons Attribution-NonCommercial-Sha...    3.5   \n",
       "1  2009-06-19  ...  Creative Commons Attribution-NonCommercial-Sha...    3.5   \n",
       "2  2007-11-05  ...  Creative Commons Attribution-NonCommercial-Sha...    4.0   \n",
       "3  2007-11-12  ...  Creative Commons Attribution-NonCommercial-Sha...    4.0   \n",
       "4  2007-11-12  ...  Creative Commons Attribution-NonCommercial-Sha...    4.0   \n",
       "\n",
       "    time                                url label_id  \\\n",
       "0  07:50  https://www.xeno-canto.org/129974        0   \n",
       "1  07:50  https://www.xeno-canto.org/129981        0   \n",
       "2  07:45  https://www.xeno-canto.org/130056        0   \n",
       "3  07:50  https://www.xeno-canto.org/130133        0   \n",
       "4  14:00  https://www.xeno-canto.org/130140        0   \n",
       "\n",
       "                                            filepath   frames     sr  \\\n",
       "0  ../input/birdclef-2021/train_short_audio/acafl...   450177  32000   \n",
       "1  ../input/birdclef-2021/train_short_audio/acafl...  1301142  32000   \n",
       "2  ../input/birdclef-2021/train_short_audio/acafl...  1347954  32000   \n",
       "3  ../input/birdclef-2021/train_short_audio/acafl...  2081890  32000   \n",
       "4  ../input/birdclef-2021/train_short_audio/acafl...  1008571  32000   \n",
       "\n",
       "    duration  fold  \n",
       "0  14.068031     0  \n",
       "1  40.660688     2  \n",
       "2  42.123562     4  \n",
       "3  65.059062     1  \n",
       "4  31.517844     3  \n",
       "\n",
       "[5 rows x 21 columns]"
      ]
     },
     "execution_count": 6,
     "metadata": {},
     "output_type": "execute_result"
    }
   ],
   "source": [
    "LABEL_IDS, df = make_df(nrows=None)\n",
    "\n",
    "df.to_csv(\"rich_train_metadata.csv\", index=True)\n",
    "with open(\"LABEL_IDS.json\", \"w\") as f:\n",
    "    json.dump(LABEL_IDS, f)\n",
    "\n",
    "print(df.shape)\n",
    "df.head()"
   ]
  },
  {
   "cell_type": "code",
   "execution_count": null,
   "id": "ethical-emerald",
   "metadata": {
    "papermill": {
     "duration": 0.020767,
     "end_time": "2021-05-22T13:44:19.062053",
     "exception": false,
     "start_time": "2021-05-22T13:44:19.041286",
     "status": "completed"
    },
    "tags": []
   },
   "outputs": [],
   "source": []
  },
  {
   "cell_type": "code",
   "execution_count": 7,
   "id": "foster-preview",
   "metadata": {
    "execution": {
     "iopub.execute_input": "2021-05-22T13:44:19.114295Z",
     "iopub.status.busy": "2021-05-22T13:44:19.111829Z",
     "iopub.status.idle": "2021-05-22T13:44:19.118605Z",
     "shell.execute_reply": "2021-05-22T13:44:19.118152Z",
     "shell.execute_reply.started": "2021-05-21T06:36:41.318051Z"
    },
    "papermill": {
     "duration": 0.035639,
     "end_time": "2021-05-22T13:44:19.118738",
     "exception": false,
     "start_time": "2021-05-22T13:44:19.083099",
     "status": "completed"
    },
    "tags": []
   },
   "outputs": [
    {
     "data": {
      "text/plain": [
       "0    4889\n",
       "1    4889\n",
       "2    4889\n",
       "3    4888\n",
       "4    4888\n",
       "Name: fold, dtype: int64"
      ]
     },
     "execution_count": 7,
     "metadata": {},
     "output_type": "execute_result"
    }
   ],
   "source": [
    "df[\"fold\"].value_counts()"
   ]
  },
  {
   "cell_type": "code",
   "execution_count": 8,
   "id": "authentic-envelope",
   "metadata": {
    "execution": {
     "iopub.execute_input": "2021-05-22T13:44:19.164137Z",
     "iopub.status.busy": "2021-05-22T13:44:19.163630Z",
     "iopub.status.idle": "2021-05-22T13:44:19.172863Z",
     "shell.execute_reply": "2021-05-22T13:44:19.172433Z",
     "shell.execute_reply.started": "2021-05-21T06:36:43.706851Z"
    },
    "id": "ZRz-DwbNVAqg",
    "outputId": "51f26b97-6a1e-4e39-c6fa-5114cfe27a25",
    "papermill": {
     "duration": 0.033121,
     "end_time": "2021-05-22T13:44:19.173130",
     "exception": false,
     "start_time": "2021-05-22T13:44:19.140009",
     "status": "completed"
    },
    "tags": []
   },
   "outputs": [
    {
     "data": {
      "text/plain": [
       "comrav     500\n",
       "houwre     500\n",
       "eursta     500\n",
       "houspa     500\n",
       "gbwwre1    500\n",
       "          ... \n",
       "hofwoo1     15\n",
       "flrtan1     15\n",
       "grhcha1     13\n",
       "heptan      10\n",
       "crfpar       5\n",
       "Name: primary_label, Length: 191, dtype: int64"
      ]
     },
     "execution_count": 8,
     "metadata": {},
     "output_type": "execute_result"
    }
   ],
   "source": [
    "df[\"primary_label\"].value_counts()"
   ]
  },
  {
   "cell_type": "code",
   "execution_count": 9,
   "id": "based-property",
   "metadata": {
    "execution": {
     "iopub.execute_input": "2021-05-22T13:44:19.218887Z",
     "iopub.status.busy": "2021-05-22T13:44:19.218335Z",
     "iopub.status.idle": "2021-05-22T13:44:19.411612Z",
     "shell.execute_reply": "2021-05-22T13:44:19.411132Z",
     "shell.execute_reply.started": "2021-05-21T06:36:47.590312Z"
    },
    "papermill": {
     "duration": 0.217215,
     "end_time": "2021-05-22T13:44:19.411740",
     "exception": false,
     "start_time": "2021-05-22T13:44:19.194525",
     "status": "completed"
    },
    "tags": []
   },
   "outputs": [
    {
     "data": {
      "text/plain": [
       "<AxesSubplot:>"
      ]
     },
     "execution_count": 9,
     "metadata": {},
     "output_type": "execute_result"
    },
    {
     "data": {
      "image/png": "[encoded data removed]",
      "text/plain": [
       "<Figure size 432x288 with 1 Axes>"
      ]
     },
     "metadata": {
      "needs_background": "light"
     },
     "output_type": "display_data"
    }
   ],
   "source": [
    "df[\"duration\"].hist(bins=20)"
   ]
  },
  {
   "cell_type": "code",
   "execution_count": 10,
   "id": "located-principle",
   "metadata": {
    "execution": {
     "iopub.execute_input": "2021-05-22T13:44:19.461722Z",
     "iopub.status.busy": "2021-05-22T13:44:19.461197Z",
     "iopub.status.idle": "2021-05-22T13:44:19.595096Z",
     "shell.execute_reply": "2021-05-22T13:44:19.594635Z",
     "shell.execute_reply.started": "2021-05-21T06:36:56.393579Z"
    },
    "papermill": {
     "duration": 0.161153,
     "end_time": "2021-05-22T13:44:19.595231",
     "exception": false,
     "start_time": "2021-05-22T13:44:19.434078",
     "status": "completed"
    },
    "tags": []
   },
   "outputs": [
    {
     "data": {
      "text/plain": [
       "<AxesSubplot:>"
      ]
     },
     "execution_count": 10,
     "metadata": {},
     "output_type": "execute_result"
    },
    {
     "data": {
      "image/png": "[encoded data removed]",
      "text/plain": [
       "<Figure size 432x288 with 1 Axes>"
      ]
     },
     "metadata": {
      "needs_background": "light"
     },
     "output_type": "display_data"
    }
   ],
   "source": [
    "df[\"duration\"].quantile(np.arange(0, 1, 0.01)).plot()"
   ]
  },
  {
   "cell_type": "code",
   "execution_count": null,
   "id": "illegal-singer",
   "metadata": {
    "id": "xh4hfWZhuglm",
    "papermill": {
     "duration": 0.022884,
     "end_time": "2021-05-22T13:44:19.641259",
     "exception": false,
     "start_time": "2021-05-22T13:44:19.618375",
     "status": "completed"
    },
    "tags": []
   },
   "outputs": [],
   "source": []
  },
  {
   "cell_type": "code",
   "execution_count": 11,
   "id": "nutritional-lloyd",
   "metadata": {
    "execution": {
     "iopub.execute_input": "2021-05-22T13:44:19.694329Z",
     "iopub.status.busy": "2021-05-22T13:44:19.693705Z",
     "iopub.status.idle": "2021-05-22T13:44:19.697121Z",
     "shell.execute_reply": "2021-05-22T13:44:19.696644Z",
     "shell.execute_reply.started": "2021-05-22T11:21:00.369678Z"
    },
    "id": "7NZq43qTVAqi",
    "papermill": {
     "duration": 0.032756,
     "end_time": "2021-05-22T13:44:19.697255",
     "exception": false,
     "start_time": "2021-05-22T13:44:19.664499",
     "status": "completed"
    },
    "tags": []
   },
   "outputs": [],
   "source": [
    "class MelSpecComputer:\n",
    "    def __init__(self, sr, n_mels, fmin, fmax, **kwargs):\n",
    "        self.sr = sr\n",
    "        self.n_mels = n_mels\n",
    "        self.fmin = fmin\n",
    "        self.fmax = fmax\n",
    "        kwargs[\"n_fft\"] = kwargs.get(\"n_fft\", self.sr//10)\n",
    "        kwargs[\"hop_length\"] = kwargs.get(\"hop_length\", self.sr//(10*4))\n",
    "        self.kwargs = kwargs\n",
    "\n",
    "    def __call__(self, y):\n",
    "\n",
    "        melspec = lb.feature.melspectrogram(\n",
    "            y, sr=self.sr, n_mels=self.n_mels, fmin=self.fmin, fmax=self.fmax, **self.kwargs,\n",
    "        )\n",
    "\n",
    "        melspec = lb.power_to_db(melspec).astype(np.float32)\n",
    "        return melspec"
   ]
  },
  {
   "cell_type": "code",
   "execution_count": 12,
   "id": "wound-banking",
   "metadata": {
    "execution": {
     "iopub.execute_input": "2021-05-22T13:44:19.751927Z",
     "iopub.status.busy": "2021-05-22T13:44:19.751385Z",
     "iopub.status.idle": "2021-05-22T13:44:19.754335Z",
     "shell.execute_reply": "2021-05-22T13:44:19.753888Z",
     "shell.execute_reply.started": "2021-05-22T11:21:02.5184Z"
    },
    "id": "-Nlw4E5UVAqi",
    "papermill": {
     "duration": 0.033987,
     "end_time": "2021-05-22T13:44:19.754462",
     "exception": false,
     "start_time": "2021-05-22T13:44:19.720475",
     "status": "completed"
    },
    "tags": []
   },
   "outputs": [],
   "source": [
    "def mono_to_color(X, eps=1e-6, mean=None, std=None):\n",
    "    mean = mean or X.mean()\n",
    "    std = std or X.std()\n",
    "    X = (X - mean) / (std + eps)\n",
    "    \n",
    "    _min, _max = X.min(), X.max()\n",
    "\n",
    "    if (_max - _min) > eps:\n",
    "        V = np.clip(X, _min, _max)\n",
    "        V = 255 * (V - _min) / (_max - _min)\n",
    "        V = V.astype(np.uint8)\n",
    "    else:\n",
    "        V = np.zeros_like(X, dtype=np.uint8)\n",
    "\n",
    "    return V\n",
    "\n",
    "def crop_or_pad(y, length, is_train=True, start=None):\n",
    "    if len(y) < length:\n",
    "        y = np.concatenate([y, np.zeros(length - len(y))])\n",
    "        \n",
    "        n_repeats = length // len(y)\n",
    "        epsilon = length % len(y)\n",
    "        \n",
    "        y = np.concatenate([y]*n_repeats + [y[:epsilon]])\n",
    "        \n",
    "    elif len(y) > length:\n",
    "        if not is_train:\n",
    "            start = start or 0\n",
    "        else:\n",
    "            start = start or np.random.randint(len(y) - length)\n",
    "\n",
    "        y = y[start:start + length]\n",
    "\n",
    "    return y"
   ]
  },
  {
   "cell_type": "code",
   "execution_count": null,
   "id": "closing-amendment",
   "metadata": {
    "papermill": {
     "duration": 0.022947,
     "end_time": "2021-05-22T13:44:19.800466",
     "exception": false,
     "start_time": "2021-05-22T13:44:19.777519",
     "status": "completed"
    },
    "tags": []
   },
   "outputs": [],
   "source": []
  },
  {
   "cell_type": "code",
   "execution_count": null,
   "id": "fixed-means",
   "metadata": {
    "papermill": {
     "duration": 0.02285,
     "end_time": "2021-05-22T13:44:19.846430",
     "exception": false,
     "start_time": "2021-05-22T13:44:19.823580",
     "status": "completed"
    },
    "tags": []
   },
   "outputs": [],
   "source": []
  },
  {
   "cell_type": "code",
   "execution_count": null,
   "id": "understanding-there",
   "metadata": {
    "papermill": {
     "duration": 0.023032,
     "end_time": "2021-05-22T13:44:19.892458",
     "exception": false,
     "start_time": "2021-05-22T13:44:19.869426",
     "status": "completed"
    },
    "tags": []
   },
   "outputs": [],
   "source": []
  },
  {
   "cell_type": "code",
   "execution_count": 13,
   "id": "earned-editor",
   "metadata": {
    "execution": {
     "iopub.execute_input": "2021-05-22T13:44:19.943186Z",
     "iopub.status.busy": "2021-05-22T13:44:19.942508Z",
     "iopub.status.idle": "2021-05-22T13:44:20.039489Z",
     "shell.execute_reply": "2021-05-22T13:44:20.038925Z",
     "shell.execute_reply.started": "2021-05-21T13:52:53.757596Z"
    },
    "papermill": {
     "duration": 0.124072,
     "end_time": "2021-05-22T13:44:20.039622",
     "exception": false,
     "start_time": "2021-05-22T13:44:19.915550",
     "status": "completed"
    },
    "tags": []
   },
   "outputs": [],
   "source": [
    "audio, orig_sr = sf.read('../input/birdclef-2021/train_short_audio/acafly/XC109605.ogg', dtype=\"float32\")"
   ]
  },
  {
   "cell_type": "code",
   "execution_count": 14,
   "id": "parliamentary-triumph",
   "metadata": {
    "execution": {
     "iopub.execute_input": "2021-05-22T13:44:20.092070Z",
     "iopub.status.busy": "2021-05-22T13:44:20.091500Z",
     "iopub.status.idle": "2021-05-22T13:44:20.102064Z",
     "shell.execute_reply": "2021-05-22T13:44:20.101442Z",
     "shell.execute_reply.started": "2021-05-21T13:52:53.880833Z"
    },
    "papermill": {
     "duration": 0.037772,
     "end_time": "2021-05-22T13:44:20.102199",
     "exception": false,
     "start_time": "2021-05-22T13:44:20.064427",
     "status": "completed"
    },
    "tags": []
   },
   "outputs": [],
   "source": [
    "info = get_audio_info('../input/birdclef-2021/train_short_audio/acafly/XC109605.ogg')"
   ]
  },
  {
   "cell_type": "code",
   "execution_count": 15,
   "id": "intensive-wisdom",
   "metadata": {
    "execution": {
     "iopub.execute_input": "2021-05-22T13:44:20.153124Z",
     "iopub.status.busy": "2021-05-22T13:44:20.152354Z",
     "iopub.status.idle": "2021-05-22T13:44:20.155210Z",
     "shell.execute_reply": "2021-05-22T13:44:20.154735Z",
     "shell.execute_reply.started": "2021-05-21T13:52:53.895649Z"
    },
    "papermill": {
     "duration": 0.029986,
     "end_time": "2021-05-22T13:44:20.155396",
     "exception": false,
     "start_time": "2021-05-22T13:44:20.125410",
     "status": "completed"
    },
    "tags": []
   },
   "outputs": [],
   "source": [
    "frames = info['frames']\n",
    "sr = info['sr']\n",
    "duration = info['duration']"
   ]
  },
  {
   "cell_type": "code",
   "execution_count": 16,
   "id": "reduced-state",
   "metadata": {
    "execution": {
     "iopub.execute_input": "2021-05-22T13:44:20.207675Z",
     "iopub.status.busy": "2021-05-22T13:44:20.207113Z",
     "iopub.status.idle": "2021-05-22T13:44:20.211831Z",
     "shell.execute_reply": "2021-05-22T13:44:20.211348Z",
     "shell.execute_reply.started": "2021-05-21T13:56:01.845217Z"
    },
    "papermill": {
     "duration": 0.032835,
     "end_time": "2021-05-22T13:44:20.211981",
     "exception": false,
     "start_time": "2021-05-22T13:44:20.179146",
     "status": "completed"
    },
    "tags": []
   },
   "outputs": [
    {
     "data": {
      "text/plain": [
       "2037586"
      ]
     },
     "execution_count": 16,
     "metadata": {},
     "output_type": "execute_result"
    }
   ],
   "source": [
    "audio_length = int(sr * duration)\n",
    "audio_length"
   ]
  },
  {
   "cell_type": "code",
   "execution_count": 17,
   "id": "northern-witness",
   "metadata": {
    "execution": {
     "iopub.execute_input": "2021-05-22T13:44:20.264336Z",
     "iopub.status.busy": "2021-05-22T13:44:20.263778Z",
     "iopub.status.idle": "2021-05-22T13:44:20.266765Z",
     "shell.execute_reply": "2021-05-22T13:44:20.266246Z",
     "shell.execute_reply.started": "2021-05-21T14:04:04.347756Z"
    },
    "papermill": {
     "duration": 0.030833,
     "end_time": "2021-05-22T13:44:20.266883",
     "exception": false,
     "start_time": "2021-05-22T13:44:20.236050",
     "status": "completed"
    },
    "tags": []
   },
   "outputs": [],
   "source": [
    "audios = [audio[i:i+audio_length] for i in range(0, max(1, len(audio) - audio_length + 1), int(7 * 0.666 * sr))]\n",
    "# audios[-1] = crop_or_pad(audios[-1] , length=self.audio_length)\n",
    "# images = [self.audio_to_image(audio) for audio in audios]"
   ]
  },
  {
   "cell_type": "code",
   "execution_count": 18,
   "id": "peaceful-figure",
   "metadata": {
    "execution": {
     "iopub.execute_input": "2021-05-22T13:44:20.319590Z",
     "iopub.status.busy": "2021-05-22T13:44:20.319012Z",
     "iopub.status.idle": "2021-05-22T13:44:20.322623Z",
     "shell.execute_reply": "2021-05-22T13:44:20.321530Z",
     "shell.execute_reply.started": "2021-05-21T14:03:20.714461Z"
    },
    "papermill": {
     "duration": 0.032327,
     "end_time": "2021-05-22T13:44:20.322774",
     "exception": false,
     "start_time": "2021-05-22T13:44:20.290447",
     "status": "completed"
    },
    "tags": []
   },
   "outputs": [],
   "source": [
    "a = []\n",
    "for i in range(0, len(audio),int(7 * 0.666 * sr)):\n",
    "    a.append(audio[i:i+audio_length])"
   ]
  },
  {
   "cell_type": "code",
   "execution_count": 19,
   "id": "split-habitat",
   "metadata": {
    "execution": {
     "iopub.execute_input": "2021-05-22T13:44:20.374908Z",
     "iopub.status.busy": "2021-05-22T13:44:20.374371Z",
     "iopub.status.idle": "2021-05-22T13:44:20.376967Z",
     "shell.execute_reply": "2021-05-22T13:44:20.377378Z",
     "shell.execute_reply.started": "2021-05-21T13:54:08.758365Z"
    },
    "papermill": {
     "duration": 0.030376,
     "end_time": "2021-05-22T13:44:20.377528",
     "exception": false,
     "start_time": "2021-05-22T13:44:20.347152",
     "status": "completed"
    },
    "tags": []
   },
   "outputs": [
    {
     "name": "stdout",
     "output_type": "stream",
     "text": [
      "2037586\n"
     ]
    }
   ],
   "source": [
    "for a in audios:\n",
    "    print(len(a))"
   ]
  },
  {
   "cell_type": "code",
   "execution_count": 20,
   "id": "presidential-plaintiff",
   "metadata": {
    "execution": {
     "iopub.execute_input": "2021-05-22T13:44:20.429377Z",
     "iopub.status.busy": "2021-05-22T13:44:20.428591Z",
     "iopub.status.idle": "2021-05-22T13:44:20.509986Z",
     "shell.execute_reply": "2021-05-22T13:44:20.510531Z"
    },
    "papermill": {
     "duration": 0.109553,
     "end_time": "2021-05-22T13:44:20.510731",
     "exception": false,
     "start_time": "2021-05-22T13:44:20.401178",
     "status": "completed"
    },
    "tags": []
   },
   "outputs": [],
   "source": [
    "audio, orig_sr = sf.read('../input/birdclef-2021/train_short_audio/acafly/XC109605.ogg', dtype=\"float32\")"
   ]
  },
  {
   "cell_type": "code",
   "execution_count": 21,
   "id": "binary-student",
   "metadata": {
    "execution": {
     "iopub.execute_input": "2021-05-22T13:44:20.564603Z",
     "iopub.status.busy": "2021-05-22T13:44:20.564124Z",
     "iopub.status.idle": "2021-05-22T13:44:20.675575Z",
     "shell.execute_reply": "2021-05-22T13:44:20.675095Z",
     "shell.execute_reply.started": "2021-05-21T14:05:00.223719Z"
    },
    "papermill": {
     "duration": 0.137382,
     "end_time": "2021-05-22T13:44:20.675770",
     "exception": false,
     "start_time": "2021-05-22T13:44:20.538388",
     "status": "completed"
    },
    "tags": []
   },
   "outputs": [
    {
     "ename": "ValueError",
     "evalue": "Array audio input must be a 1D or 2D array",
     "output_type": "error",
     "traceback": [
      "\u001b[0;31m---------------------------------------------------------------------------\u001b[0m",
      "\u001b[0;31mValueError\u001b[0m                                Traceback (most recent call last)",
      "\u001b[0;32m<ipython-input-21-90203fc40baf>\u001b[0m in \u001b[0;36m<module>\u001b[0;34m\u001b[0m\n\u001b[0;32m----> 1\u001b[0;31m \u001b[0mAudio\u001b[0m\u001b[0;34m(\u001b[0m\u001b[0ma\u001b[0m\u001b[0;34m[\u001b[0m\u001b[0;34m-\u001b[0m\u001b[0;36m3\u001b[0m\u001b[0;34m]\u001b[0m\u001b[0;34m,\u001b[0m\u001b[0mrate\u001b[0m\u001b[0;34m=\u001b[0m\u001b[0msr\u001b[0m\u001b[0;34m)\u001b[0m\u001b[0;34m\u001b[0m\u001b[0;34m\u001b[0m\u001b[0m\n\u001b[0m",
      "\u001b[0;32m/opt/conda/lib/python3.7/site-packages/IPython/lib/display.py\u001b[0m in \u001b[0;36m__init__\u001b[0;34m(self, data, filename, url, embed, rate, autoplay, normalize, element_id)\u001b[0m\n\u001b[1;32m    113\u001b[0m             \u001b[0;32mif\u001b[0m \u001b[0mrate\u001b[0m \u001b[0;32mis\u001b[0m \u001b[0;32mNone\u001b[0m\u001b[0;34m:\u001b[0m\u001b[0;34m\u001b[0m\u001b[0;34m\u001b[0m\u001b[0m\n\u001b[1;32m    114\u001b[0m                 \u001b[0;32mraise\u001b[0m \u001b[0mValueError\u001b[0m\u001b[0;34m(\u001b[0m\u001b[0;34m\"rate must be specified when data is a numpy array or list of audio samples.\"\u001b[0m\u001b[0;34m)\u001b[0m\u001b[0;34m\u001b[0m\u001b[0;34m\u001b[0m\u001b[0m\n\u001b[0;32m--> 115\u001b[0;31m             \u001b[0mself\u001b[0m\u001b[0;34m.\u001b[0m\u001b[0mdata\u001b[0m \u001b[0;34m=\u001b[0m \u001b[0mAudio\u001b[0m\u001b[0;34m.\u001b[0m\u001b[0m_make_wav\u001b[0m\u001b[0;34m(\u001b[0m\u001b[0mdata\u001b[0m\u001b[0;34m,\u001b[0m \u001b[0mrate\u001b[0m\u001b[0;34m,\u001b[0m \u001b[0mnormalize\u001b[0m\u001b[0;34m)\u001b[0m\u001b[0;34m\u001b[0m\u001b[0;34m\u001b[0m\u001b[0m\n\u001b[0m\u001b[1;32m    116\u001b[0m \u001b[0;34m\u001b[0m\u001b[0m\n\u001b[1;32m    117\u001b[0m     \u001b[0;32mdef\u001b[0m \u001b[0mreload\u001b[0m\u001b[0;34m(\u001b[0m\u001b[0mself\u001b[0m\u001b[0;34m)\u001b[0m\u001b[0;34m:\u001b[0m\u001b[0;34m\u001b[0m\u001b[0;34m\u001b[0m\u001b[0m\n",
      "\u001b[0;32m/opt/conda/lib/python3.7/site-packages/IPython/lib/display.py\u001b[0m in \u001b[0;36m_make_wav\u001b[0;34m(data, rate, normalize)\u001b[0m\n\u001b[1;32m    135\u001b[0m \u001b[0;34m\u001b[0m\u001b[0m\n\u001b[1;32m    136\u001b[0m         \u001b[0;32mtry\u001b[0m\u001b[0;34m:\u001b[0m\u001b[0;34m\u001b[0m\u001b[0;34m\u001b[0m\u001b[0m\n\u001b[0;32m--> 137\u001b[0;31m             \u001b[0mscaled\u001b[0m\u001b[0;34m,\u001b[0m \u001b[0mnchan\u001b[0m \u001b[0;34m=\u001b[0m \u001b[0mAudio\u001b[0m\u001b[0;34m.\u001b[0m\u001b[0m_validate_and_normalize_with_numpy\u001b[0m\u001b[0;34m(\u001b[0m\u001b[0mdata\u001b[0m\u001b[0;34m,\u001b[0m \u001b[0mnormalize\u001b[0m\u001b[0;34m)\u001b[0m\u001b[0;34m\u001b[0m\u001b[0;34m\u001b[0m\u001b[0m\n\u001b[0m\u001b[1;32m    138\u001b[0m         \u001b[0;32mexcept\u001b[0m \u001b[0mImportError\u001b[0m\u001b[0;34m:\u001b[0m\u001b[0;34m\u001b[0m\u001b[0;34m\u001b[0m\u001b[0m\n\u001b[1;32m    139\u001b[0m             \u001b[0mscaled\u001b[0m\u001b[0;34m,\u001b[0m \u001b[0mnchan\u001b[0m \u001b[0;34m=\u001b[0m \u001b[0mAudio\u001b[0m\u001b[0;34m.\u001b[0m\u001b[0m_validate_and_normalize_without_numpy\u001b[0m\u001b[0;34m(\u001b[0m\u001b[0mdata\u001b[0m\u001b[0;34m,\u001b[0m \u001b[0mnormalize\u001b[0m\u001b[0;34m)\u001b[0m\u001b[0;34m\u001b[0m\u001b[0;34m\u001b[0m\u001b[0m\n",
      "\u001b[0;32m/opt/conda/lib/python3.7/site-packages/IPython/lib/display.py\u001b[0m in \u001b[0;36m_validate_and_normalize_with_numpy\u001b[0;34m(data, normalize)\u001b[0m\n\u001b[1;32m    166\u001b[0m             \u001b[0mdata\u001b[0m \u001b[0;34m=\u001b[0m \u001b[0mdata\u001b[0m\u001b[0;34m.\u001b[0m\u001b[0mT\u001b[0m\u001b[0;34m.\u001b[0m\u001b[0mravel\u001b[0m\u001b[0;34m(\u001b[0m\u001b[0;34m)\u001b[0m\u001b[0;34m\u001b[0m\u001b[0;34m\u001b[0m\u001b[0m\n\u001b[1;32m    167\u001b[0m         \u001b[0;32melse\u001b[0m\u001b[0;34m:\u001b[0m\u001b[0;34m\u001b[0m\u001b[0;34m\u001b[0m\u001b[0m\n\u001b[0;32m--> 168\u001b[0;31m             \u001b[0;32mraise\u001b[0m \u001b[0mValueError\u001b[0m\u001b[0;34m(\u001b[0m\u001b[0;34m'Array audio input must be a 1D or 2D array'\u001b[0m\u001b[0;34m)\u001b[0m\u001b[0;34m\u001b[0m\u001b[0;34m\u001b[0m\u001b[0m\n\u001b[0m\u001b[1;32m    169\u001b[0m \u001b[0;34m\u001b[0m\u001b[0m\n\u001b[1;32m    170\u001b[0m         \u001b[0mmax_abs_value\u001b[0m \u001b[0;34m=\u001b[0m \u001b[0mnp\u001b[0m\u001b[0;34m.\u001b[0m\u001b[0mmax\u001b[0m\u001b[0;34m(\u001b[0m\u001b[0mnp\u001b[0m\u001b[0;34m.\u001b[0m\u001b[0mabs\u001b[0m\u001b[0;34m(\u001b[0m\u001b[0mdata\u001b[0m\u001b[0;34m)\u001b[0m\u001b[0;34m)\u001b[0m\u001b[0;34m\u001b[0m\u001b[0;34m\u001b[0m\u001b[0m\n",
      "\u001b[0;31mValueError\u001b[0m: Array audio input must be a 1D or 2D array"
     ]
    }
   ],
   "source": [
    "Audio(a[-3],rate=sr)"
   ]
  },
  {
   "cell_type": "code",
   "execution_count": 22,
   "id": "wanted-orbit",
   "metadata": {
    "execution": {
     "iopub.execute_input": "2021-05-22T13:44:20.729858Z",
     "iopub.status.busy": "2021-05-22T13:44:20.728852Z",
     "iopub.status.idle": "2021-05-22T13:44:20.733237Z",
     "shell.execute_reply": "2021-05-22T13:44:20.732732Z",
     "shell.execute_reply.started": "2021-05-21T08:36:54.048821Z"
    },
    "papermill": {
     "duration": 0.0332,
     "end_time": "2021-05-22T13:44:20.733384",
     "exception": false,
     "start_time": "2021-05-22T13:44:20.700184",
     "status": "completed"
    },
    "tags": []
   },
   "outputs": [
    {
     "data": {
      "text/plain": [
       "149184.0"
      ]
     },
     "execution_count": 22,
     "metadata": {},
     "output_type": "execute_result"
    }
   ],
   "source": [
    "7 * 0.666 * sr"
   ]
  },
  {
   "cell_type": "code",
   "execution_count": 23,
   "id": "departmental-spread",
   "metadata": {
    "execution": {
     "iopub.execute_input": "2021-05-22T13:44:20.796015Z",
     "iopub.status.busy": "2021-05-22T13:44:20.795039Z",
     "iopub.status.idle": "2021-05-22T13:44:20.799175Z",
     "shell.execute_reply": "2021-05-22T13:44:20.798347Z",
     "shell.execute_reply.started": "2021-05-22T11:21:08.506326Z"
    },
    "papermill": {
     "duration": 0.041331,
     "end_time": "2021-05-22T13:44:20.799358",
     "exception": false,
     "start_time": "2021-05-22T13:44:20.758027",
     "status": "completed"
    },
    "tags": []
   },
   "outputs": [],
   "source": [
    "class AudioToImage:\n",
    "    def __init__(self, sr=SR, n_mels=128, fmin=500, fmax=12500, duration=DURATION, step=None, res_type=\"kaiser_fast\", resample=True):\n",
    "\n",
    "        self.sr = sr\n",
    "        self.n_mels = n_mels\n",
    "        self.fmin = fmin\n",
    "        self.fmax = fmax or self.sr//2\n",
    "\n",
    "        self.duration = duration\n",
    "        self.audio_length = self.duration*self.sr\n",
    "        self.step = step or self.audio_length\n",
    "        \n",
    "        self.res_type = res_type\n",
    "        self.resample = resample\n",
    "\n",
    "        self.mel_spec_computer = MelSpecComputer(sr=self.sr, n_mels=self.n_mels, fmin=self.fmin,\n",
    "                                                 fmax=self.fmax)\n",
    "        \n",
    "    def audio_to_image(self, audio):\n",
    "        melspec = self.mel_spec_computer(audio) \n",
    "        image = mono_to_color(melspec)\n",
    "#         image = normalize(image, mean=None, std=None)\n",
    "        return image\n",
    "\n",
    "    def __call__(self, row, save=True):\n",
    "#       max_audio_duration = 10*self.duration\n",
    "#       init_audio_length = max_audio_duration*row.sr\n",
    "        \n",
    "#       start = 0 if row.duration <  max_audio_duration else np.random.randint(row.frames - init_audio_length)\n",
    "    \n",
    "      audio, orig_sr = sf.read(row.filepath, dtype=\"float32\")\n",
    "\n",
    "      if self.resample and orig_sr != self.sr:\n",
    "        audio = lb.resample(audio, orig_sr, self.sr, res_type=self.res_type)\n",
    "        \n",
    "      audios = [audio[i:i+self.audio_length] for i in range(0, max(1, len(audio) - self.audio_length + 1), self.step)]\n",
    "      audios[-1] = crop_or_pad(audios[-1] , length=self.audio_length)\n",
    "      images = [self.audio_to_image(audio) for audio in audios]\n",
    "      images = np.stack(images)\n",
    "        \n",
    "      if save:\n",
    "        path = TRAIN_AUDIO_IMAGES_SAVE_ROOT/f\"{row.primary_label}/{row.filename}.npy\"\n",
    "        path.parent.mkdir(exist_ok=True, parents=True)\n",
    "        np.save(str(path), images)\n",
    "      else:\n",
    "        print(row.filename, images)\n",
    "        return  row.filename, images"
   ]
  },
  {
   "cell_type": "code",
   "execution_count": 24,
   "id": "figured-movement",
   "metadata": {
    "execution": {
     "iopub.execute_input": "2021-05-22T13:44:20.854827Z",
     "iopub.status.busy": "2021-05-22T13:44:20.854272Z",
     "iopub.status.idle": "2021-05-22T13:44:20.858192Z",
     "shell.execute_reply": "2021-05-22T13:44:20.858616Z",
     "shell.execute_reply.started": "2021-05-22T11:21:12.075946Z"
    },
    "papermill": {
     "duration": 0.031832,
     "end_time": "2021-05-22T13:44:20.858765",
     "exception": false,
     "start_time": "2021-05-22T13:44:20.826933",
     "status": "completed"
    },
    "tags": []
   },
   "outputs": [],
   "source": [
    "def get_audios_as_images(df):\n",
    "    pool = joblib.Parallel(2)\n",
    "    \n",
    "    converter = AudioToImage(step=int(DURATION*0.666*SR))\n",
    "    mapper = joblib.delayed(converter)\n",
    "    tasks = [mapper(row) for row in df.itertuples(False)]\n",
    "    \n",
    "    pool(tqdm(tasks))"
   ]
  },
  {
   "cell_type": "code",
   "execution_count": 25,
   "id": "honey-cliff",
   "metadata": {
    "execution": {
     "iopub.execute_input": "2021-05-22T13:44:20.910282Z",
     "iopub.status.busy": "2021-05-22T13:44:20.909737Z",
     "iopub.status.idle": "2021-05-22T15:39:19.459788Z",
     "shell.execute_reply": "2021-05-22T15:39:19.460971Z",
     "shell.execute_reply.started": "2021-05-22T11:21:13.7263Z"
    },
    "papermill": {
     "duration": 6898.578323,
     "end_time": "2021-05-22T15:39:19.461410",
     "exception": false,
     "start_time": "2021-05-22T13:44:20.883087",
     "status": "completed"
    },
    "tags": []
   },
   "outputs": [
    {
     "data": {
      "application/vnd.jupyter.widget-view+json": {
       "model_id": "ee8fa99aac5a4206b7cb7d0f8c16e983",
       "version_major": 2,
       "version_minor": 0
      },
      "text/plain": [
       "  0%|          | 0/24443 [00:00<?, ?it/s]"
      ]
     },
     "metadata": {},
     "output_type": "display_data"
    }
   ],
   "source": [
    "get_audios_as_images(df)"
   ]
  },
  {
   "cell_type": "code",
   "execution_count": 26,
   "id": "impaired-sculpture",
   "metadata": {
    "execution": {
     "iopub.execute_input": "2021-05-22T15:39:19.532540Z",
     "iopub.status.busy": "2021-05-22T15:39:19.531992Z",
     "iopub.status.idle": "2021-05-22T15:39:19.652511Z",
     "shell.execute_reply": "2021-05-22T15:39:19.651882Z",
     "shell.execute_reply.started": "2021-05-22T07:30:43.475849Z"
    },
    "papermill": {
     "duration": 0.159736,
     "end_time": "2021-05-22T15:39:19.652660",
     "exception": false,
     "start_time": "2021-05-22T15:39:19.492924",
     "status": "completed"
    },
    "tags": []
   },
   "outputs": [
    {
     "name": "stdout",
     "output_type": "stream",
     "text": [
      "(822, 128, 201)\n"
     ]
    }
   ],
   "source": [
    "row = df.loc[df.duration.idxmax()]\n",
    "mels = np.load(str((TRAIN_AUDIO_IMAGES_SAVE_ROOT/row.primary_label/row.filename).as_posix() + \".npy\"))\n",
    "print(mels.shape)"
   ]
  },
  {
   "cell_type": "code",
   "execution_count": 27,
   "id": "stupid-amateur",
   "metadata": {
    "execution": {
     "iopub.execute_input": "2021-05-22T15:39:19.708854Z",
     "iopub.status.busy": "2021-05-22T15:39:19.708226Z",
     "iopub.status.idle": "2021-05-22T15:39:19.807696Z",
     "shell.execute_reply": "2021-05-22T15:39:19.808180Z",
     "shell.execute_reply.started": "2021-05-22T07:30:45.386239Z"
    },
    "papermill": {
     "duration": 0.130167,
     "end_time": "2021-05-22T15:39:19.808346",
     "exception": false,
     "start_time": "2021-05-22T15:39:19.678179",
     "status": "completed"
    },
    "tags": []
   },
   "outputs": [
    {
     "data": {
      "text/plain": [
       "<matplotlib.collections.QuadMesh at 0x7efbc841a310>"
      ]
     },
     "execution_count": 27,
     "metadata": {},
     "output_type": "execute_result"
    },
    {
     "data": {
      "image/png": "[encoded data removed]",
      "text/plain": [
       "<Figure size 432x288 with 1 Axes>"
      ]
     },
     "metadata": {},
     "output_type": "display_data"
    }
   ],
   "source": [
    "lbd.specshow(mels[0])"
   ]
  },
  {
   "cell_type": "code",
   "execution_count": null,
   "id": "fitting-rugby",
   "metadata": {
    "papermill": {
     "duration": 0.028151,
     "end_time": "2021-05-22T15:39:19.864412",
     "exception": false,
     "start_time": "2021-05-22T15:39:19.836261",
     "status": "completed"
    },
    "tags": []
   },
   "outputs": [],
   "source": []
  }
 ],
 "metadata": {
  "kernelspec": {
   "display_name": "Python 3",
   "language": "python",
   "name": "python3"
  },
  "language_info": {
   "codemirror_mode": {
    "name": "ipython",
    "version": 3
   },
   "file_extension": ".py",
   "mimetype": "text/x-python",
   "name": "python",
   "nbconvert_exporter": "python",
   "pygments_lexer": "ipython3",
   "version": "3.7.9"
  },
  "papermill": {
   "default_parameters": {},
   "duration": 7048.700975,
   "end_time": "2021-05-22T15:39:21.314542",
   "environment_variables": {},
   "exception": null,
   "input_path": "__notebook__.ipynb",
   "output_path": "__notebook__.ipynb",
   "parameters": {},
   "start_time": "2021-05-22T13:41:52.613567",
   "version": "2.3.2"
  },
  "widgets": {
   "application/vnd.jupyter.widget-state+json": {
    "state": {
     "1dd38f1df4984c209dc9c802105f8403": {
      "model_module": "@jupyter-widgets/base",
      "model_module_version": "1.2.0",
      "model_name": "LayoutModel",
      "state": {
       "_model_module": "@jupyter-widgets/base",
       "_model_module_version": "1.2.0",
       "_model_name": "LayoutModel",
       "_view_count": null,
       "_view_module": "@jupyter-widgets/base",
       "_view_module_version": "1.2.0",
       "_view_name": "LayoutView",
       "align_content": null,
       "align_items": null,
       "align_self": null,
       "border": null,
       "bottom": null,
       "display": null,
       "flex": null,
       "flex_flow": null,
       "grid_area": null,
       "grid_auto_columns": null,
       "grid_auto_flow": null,
       "grid_auto_rows": null,
       "grid_column": null,
       "grid_gap": null,
       "grid_row": null,
       "grid_template_areas": null,
       "grid_template_columns": null,
       "grid_template_rows": null,
       "height": null,
       "justify_content": null,
       "justify_items": null,
       "left": null,
       "margin": null,
       "max_height": null,
       "max_width": null,
       "min_height": null,
       "min_width": null,
       "object_fit": null,
       "object_position": null,
       "order": null,
       "overflow": null,
       "overflow_x": null,
       "overflow_y": null,
       "padding": null,
       "right": null,
       "top": null,
       "visibility": null,
       "width": null
      }
     },
     "44ddcdb51d2a4c9cb61dac0df0005442": {
      "model_module": "@jupyter-widgets/controls",
      "model_module_version": "1.5.0",
      "model_name": "HTMLModel",
      "state": {
       "_dom_classes": [],
       "_model_module": "@jupyter-widgets/controls",
       "_model_module_version": "1.5.0",
       "_model_name": "HTMLModel",
       "_view_count": null,
       "_view_module": "@jupyter-widgets/controls",
       "_view_module_version": "1.5.0",
       "_view_name": "HTMLView",
       "description": "",
       "description_tooltip": null,
       "layout": "IPY_MODEL_711cd1cc2e994ce6b5f4ae1ec7a187e0",
       "placeholder": "​",
       "style": "IPY_MODEL_9886e527e3074484a29a106355886902",
       "value": "100%"
      }
     },
     "502513186c1c41d786fec4c56d91e5f3": {
      "model_module": "@jupyter-widgets/base",
      "model_module_version": "1.2.0",
      "model_name": "LayoutModel",
      "state": {
       "_model_module": "@jupyter-widgets/base",
       "_model_module_version": "1.2.0",
       "_model_name": "LayoutModel",
       "_view_count": null,
       "_view_module": "@jupyter-widgets/base",
       "_view_module_version": "1.2.0",
       "_view_name": "LayoutView",
       "align_content": null,
       "align_items": null,
       "align_self": null,
       "border": null,
       "bottom": null,
       "display": null,
       "flex": null,
       "flex_flow": null,
       "grid_area": null,
       "grid_auto_columns": null,
       "grid_auto_flow": null,
       "grid_auto_rows": null,
       "grid_column": null,
       "grid_gap": null,
       "grid_row": null,
       "grid_template_areas": null,
       "grid_template_columns": null,
       "grid_template_rows": null,
       "height": null,
       "justify_content": null,
       "justify_items": null,
       "left": null,
       "margin": null,
       "max_height": null,
       "max_width": null,
       "min_height": null,
       "min_width": null,
       "object_fit": null,
       "object_position": null,
       "order": null,
       "overflow": null,
       "overflow_x": null,
       "overflow_y": null,
       "padding": null,
       "right": null,
       "top": null,
       "visibility": null,
       "width": null
      }
     },
     "66df714b739a46d1998c4e923fbcd5c2": {
      "model_module": "@jupyter-widgets/base",
      "model_module_version": "1.2.0",
      "model_name": "LayoutModel",
      "state": {
       "_model_module": "@jupyter-widgets/base",
       "_model_module_version": "1.2.0",
       "_model_name": "LayoutModel",
       "_view_count": null,
       "_view_module": "@jupyter-widgets/base",
       "_view_module_version": "1.2.0",
       "_view_name": "LayoutView",
       "align_content": null,
       "align_items": null,
       "align_self": null,
       "border": null,
       "bottom": null,
       "display": null,
       "flex": null,
       "flex_flow": null,
       "grid_area": null,
       "grid_auto_columns": null,
       "grid_auto_flow": null,
       "grid_auto_rows": null,
       "grid_column": null,
       "grid_gap": null,
       "grid_row": null,
       "grid_template_areas": null,
       "grid_template_columns": null,
       "grid_template_rows": null,
       "height": null,
       "justify_content": null,
       "justify_items": null,
       "left": null,
       "margin": null,
       "max_height": null,
       "max_width": null,
       "min_height": null,
       "min_width": null,
       "object_fit": null,
       "object_position": null,
       "order": null,
       "overflow": null,
       "overflow_x": null,
       "overflow_y": null,
       "padding": null,
       "right": null,
       "top": null,
       "visibility": null,
       "width": null
      }
     },
     "711cd1cc2e994ce6b5f4ae1ec7a187e0": {
      "model_module": "@jupyter-widgets/base",
      "model_module_version": "1.2.0",
      "model_name": "LayoutModel",
      "state": {
       "_model_module": "@jupyter-widgets/base",
       "_model_module_version": "1.2.0",
       "_model_name": "LayoutModel",
       "_view_count": null,
       "_view_module": "@jupyter-widgets/base",
       "_view_module_version": "1.2.0",
       "_view_name": "LayoutView",
       "align_content": null,
       "align_items": null,
       "align_self": null,
       "border": null,
       "bottom": null,
       "display": null,
       "flex": null,
       "flex_flow": null,
       "grid_area": null,
       "grid_auto_columns": null,
       "grid_auto_flow": null,
       "grid_auto_rows": null,
       "grid_column": null,
       "grid_gap": null,
       "grid_row": null,
       "grid_template_areas": null,
       "grid_template_columns": null,
       "grid_template_rows": null,
       "height": null,
       "justify_content": null,
       "justify_items": null,
       "left": null,
       "margin": null,
       "max_height": null,
       "max_width": null,
       "min_height": null,
       "min_width": null,
       "object_fit": null,
       "object_position": null,
       "order": null,
       "overflow": null,
       "overflow_x": null,
       "overflow_y": null,
       "padding": null,
       "right": null,
       "top": null,
       "visibility": null,
       "width": null
      }
     },
     "7986bf95831e46a6bf72136baaf70c7e": {
      "model_module": "@jupyter-widgets/controls",
      "model_module_version": "1.5.0",
      "model_name": "FloatProgressModel",
      "state": {
       "_dom_classes": [],
       "_model_module": "@jupyter-widgets/controls",
       "_model_module_version": "1.5.0",
       "_model_name": "FloatProgressModel",
       "_view_count": null,
       "_view_module": "@jupyter-widgets/controls",
       "_view_module_version": "1.5.0",
       "_view_name": "ProgressView",
       "bar_style": "success",
       "description": "",
       "description_tooltip": null,
       "layout": "IPY_MODEL_f21e8f6e30c3471c82fb6647979459dc",
       "max": 24443.0,
       "min": 0.0,
       "orientation": "horizontal",
       "style": "IPY_MODEL_dccbae22231749c4bd4294f1bbe247ca",
       "value": 24443.0
      }
     },
     "79c96b79f13d404da38b249388c32f78": {
      "model_module": "@jupyter-widgets/base",
      "model_module_version": "1.2.0",
      "model_name": "LayoutModel",
      "state": {
       "_model_module": "@jupyter-widgets/base",
       "_model_module_version": "1.2.0",
       "_model_name": "LayoutModel",
       "_view_count": null,
       "_view_module": "@jupyter-widgets/base",
       "_view_module_version": "1.2.0",
       "_view_name": "LayoutView",
       "align_content": null,
       "align_items": null,
       "align_self": null,
       "border": null,
       "bottom": null,
       "display": null,
       "flex": null,
       "flex_flow": null,
       "grid_area": null,
       "grid_auto_columns": null,
       "grid_auto_flow": null,
       "grid_auto_rows": null,
       "grid_column": null,
       "grid_gap": null,
       "grid_row": null,
       "grid_template_areas": null,
       "grid_template_columns": null,
       "grid_template_rows": null,
       "height": null,
       "justify_content": null,
       "justify_items": null,
       "left": null,
       "margin": null,
       "max_height": null,
       "max_width": null,
       "min_height": null,
       "min_width": null,
       "object_fit": null,
       "object_position": null,
       "order": null,
       "overflow": null,
       "overflow_x": null,
       "overflow_y": null,
       "padding": null,
       "right": null,
       "top": null,
       "visibility": null,
       "width": null
      }
     },
     "7d4b17ab7ce24fbda48be2e85144b5fd": {
      "model_module": "@jupyter-widgets/controls",
      "model_module_version": "1.5.0",
      "model_name": "DescriptionStyleModel",
      "state": {
       "_model_module": "@jupyter-widgets/controls",
       "_model_module_version": "1.5.0",
       "_model_name": "DescriptionStyleModel",
       "_view_count": null,
       "_view_module": "@jupyter-widgets/base",
       "_view_module_version": "1.2.0",
       "_view_name": "StyleView",
       "description_width": ""
      }
     },
     "857e1dc2974848018decbca492bb13d1": {
      "model_module": "@jupyter-widgets/controls",
      "model_module_version": "1.5.0",
      "model_name": "HBoxModel",
      "state": {
       "_dom_classes": [],
       "_model_module": "@jupyter-widgets/controls",
       "_model_module_version": "1.5.0",
       "_model_name": "HBoxModel",
       "_view_count": null,
       "_view_module": "@jupyter-widgets/controls",
       "_view_module_version": "1.5.0",
       "_view_name": "HBoxView",
       "box_style": "",
       "children": [
        "IPY_MODEL_44ddcdb51d2a4c9cb61dac0df0005442",
        "IPY_MODEL_b52dc97c858e41ab823171254bede2f7",
        "IPY_MODEL_c8e433d962a44d8c84e3432501c3d271"
       ],
       "layout": "IPY_MODEL_66df714b739a46d1998c4e923fbcd5c2"
      }
     },
     "8886d3c5940c44ec8bf1da587bc06ce7": {
      "model_module": "@jupyter-widgets/controls",
      "model_module_version": "1.5.0",
      "model_name": "DescriptionStyleModel",
      "state": {
       "_model_module": "@jupyter-widgets/controls",
       "_model_module_version": "1.5.0",
       "_model_name": "DescriptionStyleModel",
       "_view_count": null,
       "_view_module": "@jupyter-widgets/base",
       "_view_module_version": "1.2.0",
       "_view_name": "StyleView",
       "description_width": ""
      }
     },
     "9886e527e3074484a29a106355886902": {
      "model_module": "@jupyter-widgets/controls",
      "model_module_version": "1.5.0",
      "model_name": "DescriptionStyleModel",
      "state": {
       "_model_module": "@jupyter-widgets/controls",
       "_model_module_version": "1.5.0",
       "_model_name": "DescriptionStyleModel",
       "_view_count": null,
       "_view_module": "@jupyter-widgets/base",
       "_view_module_version": "1.2.0",
       "_view_name": "StyleView",
       "description_width": ""
      }
     },
     "b52dc97c858e41ab823171254bede2f7": {
      "model_module": "@jupyter-widgets/controls",
      "model_module_version": "1.5.0",
      "model_name": "FloatProgressModel",
      "state": {
       "_dom_classes": [],
       "_model_module": "@jupyter-widgets/controls",
       "_model_module_version": "1.5.0",
       "_model_name": "FloatProgressModel",
       "_view_count": null,
       "_view_module": "@jupyter-widgets/controls",
       "_view_module_version": "1.5.0",
       "_view_name": "ProgressView",
       "bar_style": "success",
       "description": "",
       "description_tooltip": null,
       "layout": "IPY_MODEL_bbd0cee7f239463e991adc79c9cf4044",
       "max": 24443.0,
       "min": 0.0,
       "orientation": "horizontal",
       "style": "IPY_MODEL_f372c16d2ea64d088e9418702993b321",
       "value": 24443.0
      }
     },
     "b9e41adf034f463b9e924283b5ff5921": {
      "model_module": "@jupyter-widgets/controls",
      "model_module_version": "1.5.0",
      "model_name": "HTMLModel",
      "state": {
       "_dom_classes": [],
       "_model_module": "@jupyter-widgets/controls",
       "_model_module_version": "1.5.0",
       "_model_name": "HTMLModel",
       "_view_count": null,
       "_view_module": "@jupyter-widgets/controls",
       "_view_module_version": "1.5.0",
       "_view_name": "HTMLView",
       "description": "",
       "description_tooltip": null,
       "layout": "IPY_MODEL_fb63b576c07a47ae886a5e1ecaea2d06",
       "placeholder": "​",
       "style": "IPY_MODEL_8886d3c5940c44ec8bf1da587bc06ce7",
       "value": " 24443/24443 [1:54:56&lt;00:00,  4.15it/s]"
      }
     },
     "bbd0cee7f239463e991adc79c9cf4044": {
      "model_module": "@jupyter-widgets/base",
      "model_module_version": "1.2.0",
      "model_name": "LayoutModel",
      "state": {
       "_model_module": "@jupyter-widgets/base",
       "_model_module_version": "1.2.0",
       "_model_name": "LayoutModel",
       "_view_count": null,
       "_view_module": "@jupyter-widgets/base",
       "_view_module_version": "1.2.0",
       "_view_name": "LayoutView",
       "align_content": null,
       "align_items": null,
       "align_self": null,
       "border": null,
       "bottom": null,
       "display": null,
       "flex": null,
       "flex_flow": null,
       "grid_area": null,
       "grid_auto_columns": null,
       "grid_auto_flow": null,
       "grid_auto_rows": null,
       "grid_column": null,
       "grid_gap": null,
       "grid_row": null,
       "grid_template_areas": null,
       "grid_template_columns": null,
       "grid_template_rows": null,
       "height": null,
       "justify_content": null,
       "justify_items": null,
       "left": null,
       "margin": null,
       "max_height": null,
       "max_width": null,
       "min_height": null,
       "min_width": null,
       "object_fit": null,
       "object_position": null,
       "order": null,
       "overflow": null,
       "overflow_x": null,
       "overflow_y": null,
       "padding": null,
       "right": null,
       "top": null,
       "visibility": null,
       "width": null
      }
     },
     "be4e5ed646254c9482e9e2d30fce9a8a": {
      "model_module": "@jupyter-widgets/controls",
      "model_module_version": "1.5.0",
      "model_name": "HTMLModel",
      "state": {
       "_dom_classes": [],
       "_model_module": "@jupyter-widgets/controls",
       "_model_module_version": "1.5.0",
       "_model_name": "HTMLModel",
       "_view_count": null,
       "_view_module": "@jupyter-widgets/controls",
       "_view_module_version": "1.5.0",
       "_view_name": "HTMLView",
       "description": "",
       "description_tooltip": null,
       "layout": "IPY_MODEL_1dd38f1df4984c209dc9c802105f8403",
       "placeholder": "​",
       "style": "IPY_MODEL_f214d47c3a054cfb9f5d78a1d73c52f8",
       "value": "100%"
      }
     },
     "c8e433d962a44d8c84e3432501c3d271": {
      "model_module": "@jupyter-widgets/controls",
      "model_module_version": "1.5.0",
      "model_name": "HTMLModel",
      "state": {
       "_dom_classes": [],
       "_model_module": "@jupyter-widgets/controls",
       "_model_module_version": "1.5.0",
       "_model_name": "HTMLModel",
       "_view_count": null,
       "_view_module": "@jupyter-widgets/controls",
       "_view_module_version": "1.5.0",
       "_view_name": "HTMLView",
       "description": "",
       "description_tooltip": null,
       "layout": "IPY_MODEL_79c96b79f13d404da38b249388c32f78",
       "placeholder": "​",
       "style": "IPY_MODEL_7d4b17ab7ce24fbda48be2e85144b5fd",
       "value": " 24443/24443 [02:16&lt;00:00, 191.36it/s]"
      }
     },
     "dccbae22231749c4bd4294f1bbe247ca": {
      "model_module": "@jupyter-widgets/controls",
      "model_module_version": "1.5.0",
      "model_name": "ProgressStyleModel",
      "state": {
       "_model_module": "@jupyter-widgets/controls",
       "_model_module_version": "1.5.0",
       "_model_name": "ProgressStyleModel",
       "_view_count": null,
       "_view_module": "@jupyter-widgets/base",
       "_view_module_version": "1.2.0",
       "_view_name": "StyleView",
       "bar_color": null,
       "description_width": ""
      }
     },
     "ee8fa99aac5a4206b7cb7d0f8c16e983": {
      "model_module": "@jupyter-widgets/controls",
      "model_module_version": "1.5.0",
      "model_name": "HBoxModel",
      "state": {
       "_dom_classes": [],
       "_model_module": "@jupyter-widgets/controls",
       "_model_module_version": "1.5.0",
       "_model_name": "HBoxModel",
       "_view_count": null,
       "_view_module": "@jupyter-widgets/controls",
       "_view_module_version": "1.5.0",
       "_view_name": "HBoxView",
       "box_style": "",
       "children": [
        "IPY_MODEL_be4e5ed646254c9482e9e2d30fce9a8a",
        "IPY_MODEL_7986bf95831e46a6bf72136baaf70c7e",
        "IPY_MODEL_b9e41adf034f463b9e924283b5ff5921"
       ],
       "layout": "IPY_MODEL_502513186c1c41d786fec4c56d91e5f3"
      }
     },
     "f214d47c3a054cfb9f5d78a1d73c52f8": {
      "model_module": "@jupyter-widgets/controls",
      "model_module_version": "1.5.0",
      "model_name": "DescriptionStyleModel",
      "state": {
       "_model_module": "@jupyter-widgets/controls",
       "_model_module_version": "1.5.0",
       "_model_name": "DescriptionStyleModel",
       "_view_count": null,
       "_view_module": "@jupyter-widgets/base",
       "_view_module_version": "1.2.0",
       "_view_name": "StyleView",
       "description_width": ""
      }
     },
     "f21e8f6e30c3471c82fb6647979459dc": {
      "model_module": "@jupyter-widgets/base",
      "model_module_version": "1.2.0",
      "model_name": "LayoutModel",
      "state": {
       "_model_module": "@jupyter-widgets/base",
       "_model_module_version": "1.2.0",
       "_model_name": "LayoutModel",
       "_view_count": null,
       "_view_module": "@jupyter-widgets/base",
       "_view_module_version": "1.2.0",
       "_view_name": "LayoutView",
       "align_content": null,
       "align_items": null,
       "align_self": null,
       "border": null,
       "bottom": null,
       "display": null,
       "flex": null,
       "flex_flow": null,
       "grid_area": null,
       "grid_auto_columns": null,
       "grid_auto_flow": null,
       "grid_auto_rows": null,
       "grid_column": null,
       "grid_gap": null,
       "grid_row": null,
       "grid_template_areas": null,
       "grid_template_columns": null,
       "grid_template_rows": null,
       "height": null,
       "justify_content": null,
       "justify_items": null,
       "left": null,
       "margin": null,
       "max_height": null,
       "max_width": null,
       "min_height": null,
       "min_width": null,
       "object_fit": null,
       "object_position": null,
       "order": null,
       "overflow": null,
       "overflow_x": null,
       "overflow_y": null,
       "padding": null,
       "right": null,
       "top": null,
       "visibility": null,
       "width": null
      }
     },
     "f372c16d2ea64d088e9418702993b321": {
      "model_module": "@jupyter-widgets/controls",
      "model_module_version": "1.5.0",
      "model_name": "ProgressStyleModel",
      "state": {
       "_model_module": "@jupyter-widgets/controls",
       "_model_module_version": "1.5.0",
       "_model_name": "ProgressStyleModel",
       "_view_count": null,
       "_view_module": "@jupyter-widgets/base",
       "_view_module_version": "1.2.0",
       "_view_name": "StyleView",
       "bar_color": null,
       "description_width": ""
      }
     },
     "fb63b576c07a47ae886a5e1ecaea2d06": {
      "model_module": "@jupyter-widgets/base",
      "model_module_version": "1.2.0",
      "model_name": "LayoutModel",
      "state": {
       "_model_module": "@jupyter-widgets/base",
       "_model_module_version": "1.2.0",
       "_model_name": "LayoutModel",
       "_view_count": null,
       "_view_module": "@jupyter-widgets/base",
       "_view_module_version": "1.2.0",
       "_view_name": "LayoutView",
       "align_content": null,
       "align_items": null,
       "align_self": null,
       "border": null,
       "bottom": null,
       "display": null,
       "flex": null,
       "flex_flow": null,
       "grid_area": null,
       "grid_auto_columns": null,
       "grid_auto_flow": null,
       "grid_auto_rows": null,
       "grid_column": null,
       "grid_gap": null,
       "grid_row": null,
       "grid_template_areas": null,
       "grid_template_columns": null,
       "grid_template_rows": null,
       "height": null,
       "justify_content": null,
       "justify_items": null,
       "left": null,
       "margin": null,
       "max_height": null,
       "max_width": null,
       "min_height": null,
       "min_width": null,
       "object_fit": null,
       "object_position": null,
       "order": null,
       "overflow": null,
       "overflow_x": null,
       "overflow_y": null,
       "padding": null,
       "right": null,
       "top": null,
       "visibility": null,
       "width": null
      }
     }
    },
    "version_major": 2,
    "version_minor": 0
   }
  }
 },
 "nbformat": 4,
 "nbformat_minor": 5
}
