{
 "cells": [
  {
   "cell_type": "code",
   "execution_count": 1,
   "id": "lovely-toronto",
   "metadata": {
    "_cell_guid": "b1076dfc-b9ad-4769-8c92-a6c4dae69d19",
    "_uuid": "8f2839f25d086af736a60e9eeb907d3b93b6e0e5",
    "execution": {
     "iopub.execute_input": "2021-04-29T07:22:13.211346Z",
     "iopub.status.busy": "2021-04-29T07:22:13.209941Z",
     "iopub.status.idle": "2021-04-29T07:22:13.215532Z",
     "shell.execute_reply": "2021-04-29T07:22:13.216359Z"
    },
    "papermill": {
     "duration": 0.028256,
     "end_time": "2021-04-29T07:22:13.216785",
     "exception": false,
     "start_time": "2021-04-29T07:22:13.188529",
     "status": "completed"
    },
    "tags": []
   },
   "outputs": [],
   "source": [
    "# This Python 3 environment comes with many helpful analytics libraries installed\n",
    "# It is defined by the kaggle/python Docker image: https://github.com/kaggle/docker-python\n",
    "# For example, here's several helpful packages to load\n",
    "\n",
    "import numpy as np # linear algebra\n",
    "import pandas as pd # data processing, CSV file I/O (e.g. pd.read_csv)\n",
    "\n",
    "# Input data files are available in the read-only \"../input/\" directory\n",
    "# For example, running this (by clicking run or pressing Shift+Enter) will list all files under the input directory\n",
    "\n",
    "import os\n",
    "# for dirname, _, filenames in os.walk('/kaggle/input'):\n",
    "#     for filename in filenames:\n",
    "#         print(os.path.join(dirname, filename))\n",
    "\n",
    "# You can write up to 20GB to the current directory (/kaggle/working/) that gets preserved as output when you create a version using \"Save & Run All\" \n",
    "# You can also write temporary files to /kaggle/temp/, but they won't be saved outside of the current session"
   ]
  },
  {
   "cell_type": "code",
   "execution_count": 2,
   "id": "varied-peoples",
   "metadata": {
    "execution": {
     "iopub.execute_input": "2021-04-29T07:22:13.248669Z",
     "iopub.status.busy": "2021-04-29T07:22:13.247501Z",
     "iopub.status.idle": "2021-04-29T07:22:13.260803Z",
     "shell.execute_reply": "2021-04-29T07:22:13.260032Z"
    },
    "papermill": {
     "duration": 0.033206,
     "end_time": "2021-04-29T07:22:13.261006",
     "exception": false,
     "start_time": "2021-04-29T07:22:13.227800",
     "status": "completed"
    },
    "tags": []
   },
   "outputs": [
    {
     "name": "stdout",
     "output_type": "stream",
     "text": [
      "failed\n",
      "20 FILES IN TEST SET.\n"
     ]
    }
   ],
   "source": [
    "def list_files(path):\n",
    "    return [os.path.join(path, f) for f in os.listdir(path) if f.rsplit('.', 1)[-1] in ['ogg']]\n",
    "test_audio = list_files('../input/birdclef-2021/test_soundscapes')\n",
    "if len(test_audio) == 0:\n",
    "    print('failed')\n",
    "    test_audio = list_files('../input/birdclef-2021/train_soundscapes')\n",
    "    \n",
    "print('{} FILES IN TEST SET.'.format(len(test_audio)))"
   ]
  },
  {
   "cell_type": "code",
   "execution_count": 3,
   "id": "large-static",
   "metadata": {
    "execution": {
     "iopub.execute_input": "2021-04-29T07:22:13.295973Z",
     "iopub.status.busy": "2021-04-29T07:22:13.295221Z",
     "iopub.status.idle": "2021-04-29T07:22:13.298917Z",
     "shell.execute_reply": "2021-04-29T07:22:13.299494Z"
    },
    "papermill": {
     "duration": 0.026234,
     "end_time": "2021-04-29T07:22:13.299696",
     "exception": false,
     "start_time": "2021-04-29T07:22:13.273462",
     "status": "completed"
    },
    "tags": []
   },
   "outputs": [
    {
     "data": {
      "text/plain": [
       "'../input/birdclef-2021/train_soundscapes/20152_SSW_20170805.ogg'"
      ]
     },
     "execution_count": 3,
     "metadata": {},
     "output_type": "execute_result"
    }
   ],
   "source": [
    "test_audio[0]"
   ]
  },
  {
   "cell_type": "code",
   "execution_count": 4,
   "id": "geographic-rough",
   "metadata": {
    "execution": {
     "iopub.execute_input": "2021-04-29T07:22:13.331619Z",
     "iopub.status.busy": "2021-04-29T07:22:13.330970Z",
     "iopub.status.idle": "2021-04-29T07:22:13.361318Z",
     "shell.execute_reply": "2021-04-29T07:22:13.361816Z"
    },
    "papermill": {
     "duration": 0.048666,
     "end_time": "2021-04-29T07:22:13.362019",
     "exception": false,
     "start_time": "2021-04-29T07:22:13.313353",
     "status": "completed"
    },
    "tags": []
   },
   "outputs": [
    {
     "data": {
      "text/html": [
       "<div>\n",
       "<style scoped>\n",
       "    .dataframe tbody tr th:only-of-type {\n",
       "        vertical-align: middle;\n",
       "    }\n",
       "\n",
       "    .dataframe tbody tr th {\n",
       "        vertical-align: top;\n",
       "    }\n",
       "\n",
       "    .dataframe thead th {\n",
       "        text-align: right;\n",
       "    }\n",
       "</style>\n",
       "<table border=\"1\" class=\"dataframe\">\n",
       "  <thead>\n",
       "    <tr style=\"text-align: right;\">\n",
       "      <th></th>\n",
       "      <th>row_id</th>\n",
       "      <th>site</th>\n",
       "      <th>audio_id</th>\n",
       "      <th>seconds</th>\n",
       "    </tr>\n",
       "  </thead>\n",
       "  <tbody>\n",
       "    <tr>\n",
       "      <th>0</th>\n",
       "      <td>3575_COL_5</td>\n",
       "      <td>COL</td>\n",
       "      <td>3575</td>\n",
       "      <td>5</td>\n",
       "    </tr>\n",
       "    <tr>\n",
       "      <th>1</th>\n",
       "      <td>3575_COL_10</td>\n",
       "      <td>COL</td>\n",
       "      <td>3575</td>\n",
       "      <td>10</td>\n",
       "    </tr>\n",
       "    <tr>\n",
       "      <th>2</th>\n",
       "      <td>3575_COL_15</td>\n",
       "      <td>COL</td>\n",
       "      <td>3575</td>\n",
       "      <td>15</td>\n",
       "    </tr>\n",
       "  </tbody>\n",
       "</table>\n",
       "</div>"
      ],
      "text/plain": [
       "        row_id site  audio_id  seconds\n",
       "0   3575_COL_5  COL      3575        5\n",
       "1  3575_COL_10  COL      3575       10\n",
       "2  3575_COL_15  COL      3575       15"
      ]
     },
     "execution_count": 4,
     "metadata": {},
     "output_type": "execute_result"
    }
   ],
   "source": [
    "pd.read_csv('../input/birdclef-2021/test.csv')"
   ]
  },
  {
   "cell_type": "code",
   "execution_count": 5,
   "id": "emotional-coupon",
   "metadata": {
    "execution": {
     "iopub.execute_input": "2021-04-29T07:22:13.403131Z",
     "iopub.status.busy": "2021-04-29T07:22:13.402312Z",
     "iopub.status.idle": "2021-04-29T07:22:13.406943Z",
     "shell.execute_reply": "2021-04-29T07:22:13.406377Z"
    },
    "papermill": {
     "duration": 0.034409,
     "end_time": "2021-04-29T07:22:13.407095",
     "exception": false,
     "start_time": "2021-04-29T07:22:13.372686",
     "status": "completed"
    },
    "tags": []
   },
   "outputs": [
    {
     "data": {
      "text/html": [
       "<div>\n",
       "<style scoped>\n",
       "    .dataframe tbody tr th:only-of-type {\n",
       "        vertical-align: middle;\n",
       "    }\n",
       "\n",
       "    .dataframe tbody tr th {\n",
       "        vertical-align: top;\n",
       "    }\n",
       "\n",
       "    .dataframe thead th {\n",
       "        text-align: right;\n",
       "    }\n",
       "</style>\n",
       "<table border=\"1\" class=\"dataframe\">\n",
       "  <thead>\n",
       "    <tr style=\"text-align: right;\">\n",
       "      <th></th>\n",
       "      <th>row_id</th>\n",
       "      <th>birds</th>\n",
       "    </tr>\n",
       "  </thead>\n",
       "  <tbody>\n",
       "    <tr>\n",
       "      <th>0</th>\n",
       "      <td>20152_SSW_5</td>\n",
       "      <td>nocall</td>\n",
       "    </tr>\n",
       "    <tr>\n",
       "      <th>1</th>\n",
       "      <td>20152_SSW_10</td>\n",
       "      <td>nocall</td>\n",
       "    </tr>\n",
       "    <tr>\n",
       "      <th>2</th>\n",
       "      <td>20152_SSW_15</td>\n",
       "      <td>nocall</td>\n",
       "    </tr>\n",
       "    <tr>\n",
       "      <th>3</th>\n",
       "      <td>20152_SSW_20</td>\n",
       "      <td>nocall</td>\n",
       "    </tr>\n",
       "    <tr>\n",
       "      <th>4</th>\n",
       "      <td>20152_SSW_25</td>\n",
       "      <td>nocall</td>\n",
       "    </tr>\n",
       "  </tbody>\n",
       "</table>\n",
       "</div>"
      ],
      "text/plain": [
       "         row_id   birds\n",
       "0   20152_SSW_5  nocall\n",
       "1  20152_SSW_10  nocall\n",
       "2  20152_SSW_15  nocall\n",
       "3  20152_SSW_20  nocall\n",
       "4  20152_SSW_25  nocall"
      ]
     },
     "execution_count": 5,
     "metadata": {},
     "output_type": "execute_result"
    }
   ],
   "source": [
    "# This is where we will store our results\n",
    "pred = {'row_id': [], 'birds': []}\n",
    "\n",
    "# Analyze each soundscape recording\n",
    "for path in test_audio:\n",
    "    \n",
    "    # Open file with Librosa\n",
    "    \n",
    "    # Split file into 5-second chunks\n",
    "    \n",
    "    # Extract spectrogram for each chunk\n",
    "    \n",
    "    # Predict on spectrogram\n",
    "    \n",
    "    # Get row_id and birds and store result\n",
    "    # (maybe using a post-filter based on location)\n",
    "    \n",
    "    # The above steps are just placeholders, we will use mock predictions.\n",
    "    # Our \"model\" will predict \"nocall\" for each spectrogram.\n",
    "    fileinfo = path.split(os.sep)[-1].rsplit('.', 1)[0].split('_')\n",
    "    for second in range(5, 605, 5):\n",
    "        row_id = fileinfo[0] + '_'  + fileinfo[1] + '_'  + str(second)  \n",
    "        pred['row_id'].append(row_id)\n",
    "        pred['birds'].append('nocall')\n",
    "        \n",
    "# Make a new data frame and look at a few \"results\"\n",
    "results = pd.DataFrame(pred, columns = ['row_id', 'birds'])\n",
    "results.head()"
   ]
  },
  {
   "cell_type": "code",
   "execution_count": 6,
   "id": "colonial-landing",
   "metadata": {
    "execution": {
     "iopub.execute_input": "2021-04-29T07:22:13.441092Z",
     "iopub.status.busy": "2021-04-29T07:22:13.440009Z",
     "iopub.status.idle": "2021-04-29T07:22:13.444667Z",
     "shell.execute_reply": "2021-04-29T07:22:13.444178Z"
    },
    "papermill": {
     "duration": 0.026767,
     "end_time": "2021-04-29T07:22:13.444827",
     "exception": false,
     "start_time": "2021-04-29T07:22:13.418060",
     "status": "completed"
    },
    "tags": []
   },
   "outputs": [
    {
     "data": {
      "text/html": [
       "<div>\n",
       "<style scoped>\n",
       "    .dataframe tbody tr th:only-of-type {\n",
       "        vertical-align: middle;\n",
       "    }\n",
       "\n",
       "    .dataframe tbody tr th {\n",
       "        vertical-align: top;\n",
       "    }\n",
       "\n",
       "    .dataframe thead th {\n",
       "        text-align: right;\n",
       "    }\n",
       "</style>\n",
       "<table border=\"1\" class=\"dataframe\">\n",
       "  <thead>\n",
       "    <tr style=\"text-align: right;\">\n",
       "      <th></th>\n",
       "      <th>row_id</th>\n",
       "      <th>birds</th>\n",
       "    </tr>\n",
       "  </thead>\n",
       "  <tbody>\n",
       "    <tr>\n",
       "      <th>0</th>\n",
       "      <td>20152_SSW_5</td>\n",
       "      <td>nocall</td>\n",
       "    </tr>\n",
       "    <tr>\n",
       "      <th>1</th>\n",
       "      <td>20152_SSW_10</td>\n",
       "      <td>nocall</td>\n",
       "    </tr>\n",
       "    <tr>\n",
       "      <th>2</th>\n",
       "      <td>20152_SSW_15</td>\n",
       "      <td>nocall</td>\n",
       "    </tr>\n",
       "    <tr>\n",
       "      <th>3</th>\n",
       "      <td>20152_SSW_20</td>\n",
       "      <td>nocall</td>\n",
       "    </tr>\n",
       "    <tr>\n",
       "      <th>4</th>\n",
       "      <td>20152_SSW_25</td>\n",
       "      <td>nocall</td>\n",
       "    </tr>\n",
       "    <tr>\n",
       "      <th>...</th>\n",
       "      <td>...</td>\n",
       "      <td>...</td>\n",
       "    </tr>\n",
       "    <tr>\n",
       "      <th>2395</th>\n",
       "      <td>26709_SSW_580</td>\n",
       "      <td>nocall</td>\n",
       "    </tr>\n",
       "    <tr>\n",
       "      <th>2396</th>\n",
       "      <td>26709_SSW_585</td>\n",
       "      <td>nocall</td>\n",
       "    </tr>\n",
       "    <tr>\n",
       "      <th>2397</th>\n",
       "      <td>26709_SSW_590</td>\n",
       "      <td>nocall</td>\n",
       "    </tr>\n",
       "    <tr>\n",
       "      <th>2398</th>\n",
       "      <td>26709_SSW_595</td>\n",
       "      <td>nocall</td>\n",
       "    </tr>\n",
       "    <tr>\n",
       "      <th>2399</th>\n",
       "      <td>26709_SSW_600</td>\n",
       "      <td>nocall</td>\n",
       "    </tr>\n",
       "  </tbody>\n",
       "</table>\n",
       "<p>2400 rows × 2 columns</p>\n",
       "</div>"
      ],
      "text/plain": [
       "             row_id   birds\n",
       "0       20152_SSW_5  nocall\n",
       "1      20152_SSW_10  nocall\n",
       "2      20152_SSW_15  nocall\n",
       "3      20152_SSW_20  nocall\n",
       "4      20152_SSW_25  nocall\n",
       "...             ...     ...\n",
       "2395  26709_SSW_580  nocall\n",
       "2396  26709_SSW_585  nocall\n",
       "2397  26709_SSW_590  nocall\n",
       "2398  26709_SSW_595  nocall\n",
       "2399  26709_SSW_600  nocall\n",
       "\n",
       "[2400 rows x 2 columns]"
      ]
     },
     "execution_count": 6,
     "metadata": {},
     "output_type": "execute_result"
    }
   ],
   "source": [
    "results"
   ]
  },
  {
   "cell_type": "code",
   "execution_count": 7,
   "id": "institutional-rating",
   "metadata": {
    "execution": {
     "iopub.execute_input": "2021-04-29T07:22:13.473109Z",
     "iopub.status.busy": "2021-04-29T07:22:13.472447Z",
     "iopub.status.idle": "2021-04-29T07:22:13.484794Z",
     "shell.execute_reply": "2021-04-29T07:22:13.485313Z"
    },
    "papermill": {
     "duration": 0.028505,
     "end_time": "2021-04-29T07:22:13.485493",
     "exception": false,
     "start_time": "2021-04-29T07:22:13.456988",
     "status": "completed"
    },
    "tags": []
   },
   "outputs": [],
   "source": [
    "train_soundscapes = pd.read_csv('../input/birdclef-2021/train_soundscape_labels.csv')"
   ]
  },
  {
   "cell_type": "code",
   "execution_count": 8,
   "id": "entire-result",
   "metadata": {
    "execution": {
     "iopub.execute_input": "2021-04-29T07:22:13.512296Z",
     "iopub.status.busy": "2021-04-29T07:22:13.511652Z",
     "iopub.status.idle": "2021-04-29T07:22:13.518635Z",
     "shell.execute_reply": "2021-04-29T07:22:13.519111Z"
    },
    "papermill": {
     "duration": 0.021502,
     "end_time": "2021-04-29T07:22:13.519300",
     "exception": false,
     "start_time": "2021-04-29T07:22:13.497798",
     "status": "completed"
    },
    "tags": []
   },
   "outputs": [],
   "source": [
    "results.birds = train_soundscapes.birds"
   ]
  },
  {
   "cell_type": "code",
   "execution_count": 9,
   "id": "absent-ecuador",
   "metadata": {
    "execution": {
     "iopub.execute_input": "2021-04-29T07:22:13.557239Z",
     "iopub.status.busy": "2021-04-29T07:22:13.556428Z",
     "iopub.status.idle": "2021-04-29T07:22:13.559822Z",
     "shell.execute_reply": "2021-04-29T07:22:13.560311Z"
    },
    "papermill": {
     "duration": 0.029428,
     "end_time": "2021-04-29T07:22:13.560489",
     "exception": false,
     "start_time": "2021-04-29T07:22:13.531061",
     "status": "completed"
    },
    "tags": []
   },
   "outputs": [
    {
     "data": {
      "text/html": [
       "<div>\n",
       "<style scoped>\n",
       "    .dataframe tbody tr th:only-of-type {\n",
       "        vertical-align: middle;\n",
       "    }\n",
       "\n",
       "    .dataframe tbody tr th {\n",
       "        vertical-align: top;\n",
       "    }\n",
       "\n",
       "    .dataframe thead th {\n",
       "        text-align: right;\n",
       "    }\n",
       "</style>\n",
       "<table border=\"1\" class=\"dataframe\">\n",
       "  <thead>\n",
       "    <tr style=\"text-align: right;\">\n",
       "      <th></th>\n",
       "      <th>row_id</th>\n",
       "      <th>birds</th>\n",
       "    </tr>\n",
       "  </thead>\n",
       "  <tbody>\n",
       "    <tr>\n",
       "      <th>0</th>\n",
       "      <td>20152_SSW_5</td>\n",
       "      <td>nocall</td>\n",
       "    </tr>\n",
       "    <tr>\n",
       "      <th>1</th>\n",
       "      <td>20152_SSW_10</td>\n",
       "      <td>nocall</td>\n",
       "    </tr>\n",
       "    <tr>\n",
       "      <th>2</th>\n",
       "      <td>20152_SSW_15</td>\n",
       "      <td>nocall</td>\n",
       "    </tr>\n",
       "    <tr>\n",
       "      <th>3</th>\n",
       "      <td>20152_SSW_20</td>\n",
       "      <td>nocall</td>\n",
       "    </tr>\n",
       "    <tr>\n",
       "      <th>4</th>\n",
       "      <td>20152_SSW_25</td>\n",
       "      <td>nocall</td>\n",
       "    </tr>\n",
       "    <tr>\n",
       "      <th>...</th>\n",
       "      <td>...</td>\n",
       "      <td>...</td>\n",
       "    </tr>\n",
       "    <tr>\n",
       "      <th>2395</th>\n",
       "      <td>26709_SSW_580</td>\n",
       "      <td>nocall</td>\n",
       "    </tr>\n",
       "    <tr>\n",
       "      <th>2396</th>\n",
       "      <td>26709_SSW_585</td>\n",
       "      <td>grycat</td>\n",
       "    </tr>\n",
       "    <tr>\n",
       "      <th>2397</th>\n",
       "      <td>26709_SSW_590</td>\n",
       "      <td>grycat</td>\n",
       "    </tr>\n",
       "    <tr>\n",
       "      <th>2398</th>\n",
       "      <td>26709_SSW_595</td>\n",
       "      <td>nocall</td>\n",
       "    </tr>\n",
       "    <tr>\n",
       "      <th>2399</th>\n",
       "      <td>26709_SSW_600</td>\n",
       "      <td>nocall</td>\n",
       "    </tr>\n",
       "  </tbody>\n",
       "</table>\n",
       "<p>2400 rows × 2 columns</p>\n",
       "</div>"
      ],
      "text/plain": [
       "             row_id   birds\n",
       "0       20152_SSW_5  nocall\n",
       "1      20152_SSW_10  nocall\n",
       "2      20152_SSW_15  nocall\n",
       "3      20152_SSW_20  nocall\n",
       "4      20152_SSW_25  nocall\n",
       "...             ...     ...\n",
       "2395  26709_SSW_580  nocall\n",
       "2396  26709_SSW_585  grycat\n",
       "2397  26709_SSW_590  grycat\n",
       "2398  26709_SSW_595  nocall\n",
       "2399  26709_SSW_600  nocall\n",
       "\n",
       "[2400 rows x 2 columns]"
      ]
     },
     "execution_count": 9,
     "metadata": {},
     "output_type": "execute_result"
    }
   ],
   "source": [
    "results"
   ]
  },
  {
   "cell_type": "code",
   "execution_count": 10,
   "id": "accurate-boutique",
   "metadata": {
    "execution": {
     "iopub.execute_input": "2021-04-29T07:22:13.588503Z",
     "iopub.status.busy": "2021-04-29T07:22:13.587877Z",
     "iopub.status.idle": "2021-04-29T07:22:13.602041Z",
     "shell.execute_reply": "2021-04-29T07:22:13.601378Z"
    },
    "papermill": {
     "duration": 0.029306,
     "end_time": "2021-04-29T07:22:13.602204",
     "exception": false,
     "start_time": "2021-04-29T07:22:13.572898",
     "status": "completed"
    },
    "tags": []
   },
   "outputs": [],
   "source": [
    "results.to_csv(\"submission.csv\", index=False)"
   ]
  },
  {
   "cell_type": "code",
   "execution_count": null,
   "id": "gentle-scale",
   "metadata": {
    "papermill": {
     "duration": 0.011923,
     "end_time": "2021-04-29T07:22:13.626603",
     "exception": false,
     "start_time": "2021-04-29T07:22:13.614680",
     "status": "completed"
    },
    "tags": []
   },
   "outputs": [],
   "source": []
  }
 ],
 "metadata": {
  "kernelspec": {
   "display_name": "Python 3",
   "language": "python",
   "name": "python3"
  },
  "language_info": {
   "codemirror_mode": {
    "name": "ipython",
    "version": 3
   },
   "file_extension": ".py",
   "mimetype": "text/x-python",
   "name": "python",
   "nbconvert_exporter": "python",
   "pygments_lexer": "ipython3",
   "version": "3.7.10"
  },
  "papermill": {
   "default_parameters": {},
   "duration": 9.777026,
   "end_time": "2021-04-29T07:22:14.350265",
   "environment_variables": {},
   "exception": null,
   "input_path": "__notebook__.ipynb",
   "output_path": "__notebook__.ipynb",
   "parameters": {},
   "start_time": "2021-04-29T07:22:04.573239",
   "version": "2.3.3"
  }
 },
 "nbformat": 4,
 "nbformat_minor": 5
}
